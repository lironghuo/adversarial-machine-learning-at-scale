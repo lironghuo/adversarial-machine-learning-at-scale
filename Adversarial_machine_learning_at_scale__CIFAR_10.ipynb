{
  "nbformat": 4,
  "nbformat_minor": 0,
  "metadata": {
    "colab": {
      "name": "Adversarial machine learning at scale_ CIFAR 10",
      "version": "0.3.2",
      "provenance": [],
      "collapsed_sections": [],
      "include_colab_link": true
    },
    "kernelspec": {
      "name": "python3",
      "display_name": "Python 3"
    },
    "accelerator": "GPU"
  },
  "cells": [
    {
      "cell_type": "markdown",
      "metadata": {
        "id": "view-in-github",
        "colab_type": "text"
      },
      "source": [
        "<a href=\"https://colab.research.google.com/github/minimini-min/adversarial-machine-learning-at-scale/blob/master/Adversarial_machine_learning_at_scale__CIFAR_10.ipynb\" target=\"_parent\"><img src=\"https://colab.research.google.com/assets/colab-badge.svg\" alt=\"Open In Colab\"/></a>"
      ]
    },
    {
      "cell_type": "code",
      "metadata": {
        "id": "bpLSirb9gGas",
        "colab_type": "code",
        "colab": {}
      },
      "source": [
        "import numpy as np\n",
        "import torch\n",
        "import torch.nn as nn\n",
        "import torchvision.datasets as dsets\n",
        "import torchvision.transforms as transforms\n",
        "import torchvision.utils\n",
        "import matplotlib.pyplot as plt\n",
        "from torchsummary import summary\n",
        "from tqdm import tqdm\n",
        "from pandas import DataFrame"
      ],
      "execution_count": 0,
      "outputs": []
    },
    {
      "cell_type": "markdown",
      "metadata": {
        "id": "SFqLW7vK880a",
        "colab_type": "text"
      },
      "source": [
        ""
      ]
    },
    {
      "cell_type": "markdown",
      "metadata": {
        "id": "pq59ToapCDYG",
        "colab_type": "text"
      },
      "source": [
        "# Prepare data and  set hyperparameters"
      ]
    },
    {
      "cell_type": "code",
      "metadata": {
        "id": "ffl0TNXHgWnh",
        "colab_type": "code",
        "colab": {}
      },
      "source": [
        "# Global Variable For training\n",
        "# You just use the following hyper-parameters\n",
        "BATCH_SIZE = 100\n",
        "NUM_ADV=BATCH_SIZE//2\n",
        "NUM_EPOCH = 50\n",
        "LAMBDA=1\n",
        "CRITERION = nn.CrossEntropyLoss()"
      ],
      "execution_count": 0,
      "outputs": []
    },
    {
      "cell_type": "code",
      "metadata": {
        "id": "hICRDPhMgXmY",
        "colab_type": "code",
        "outputId": "f8ca309b-8017-4db7-e3fc-e7893887cf50",
        "colab": {
          "base_uri": "https://localhost:8080/",
          "height": 34
        }
      },
      "source": [
        "# CIFAR10 Dataset\n",
        "train_dataset = dsets.CIFAR10(root='./data', train=True, transform=transforms.ToTensor(), download=True)\n",
        "test_dataset = dsets.CIFAR10(root='./data', train=False, transform=transforms.ToTensor())\n",
        "\n",
        "train_loader = torch.utils.data.DataLoader(dataset=train_dataset, batch_size=BATCH_SIZE, shuffle=True)\n",
        "test_loader = torch.utils.data.DataLoader(dataset=test_dataset, batch_size=BATCH_SIZE, shuffle=False)"
      ],
      "execution_count": 0,
      "outputs": [
        {
          "output_type": "stream",
          "text": [
            "Files already downloaded and verified\n"
          ],
          "name": "stdout"
        }
      ]
    },
    {
      "cell_type": "code",
      "metadata": {
        "id": "jH6xAR2prpWr",
        "colab_type": "code",
        "colab": {}
      },
      "source": [
        "def imshow(img):\n",
        "    npimg = img.detach().numpy()\n",
        "    fig = plt.figure(figsize = (15, 30))\n",
        "    plt.imshow(np.transpose(npimg,(1,2,0)))\n",
        "    plt.show()"
      ],
      "execution_count": 0,
      "outputs": []
    },
    {
      "cell_type": "markdown",
      "metadata": {
        "id": "H40PEGG9CLOw",
        "colab_type": "text"
      },
      "source": [
        "# Attacking methos"
      ]
    },
    {
      "cell_type": "code",
      "metadata": {
        "id": "pMQpsjff3pMT",
        "colab_type": "code",
        "colab": {}
      },
      "source": [
        "def FGSM(model, CRITERION ,images, labels, epsilon=None ,train= True):\n",
        "    # Auther suggest that set up the epsilon randomly ~ N(0, 8) (range(0,16)), in test time, use the user defined  valus. \n",
        "    if train==True:\n",
        "        epsilon=abs( torch.normal(torch.tensor([0.0]),torch.tensor([8/256]))).to(\"cuda\")\n",
        "    else:\n",
        "        epsilon=epsilon.to(\"cuda\")\n",
        "    \n",
        "    # as y_target, FGSM use ture label \n",
        "    labels = labels.detach()\n",
        "    images.requires_grad = True\n",
        "    outputs = model(images)\n",
        "    \n",
        "    # gradinet of y_true and output\n",
        "    model.zero_grad()\n",
        "    cost = CRITERION(outputs, labels)\n",
        "    cost.backward()\n",
        "\n",
        "    adv_images = images -  epsilon*images.grad.sign()\n",
        "    # Adding clipping to maintain [0,1] range\n",
        "    adv_image = torch.clamp(adv_images, 0, 1)\n",
        "    return adv_images"
      ],
      "execution_count": 0,
      "outputs": []
    },
    {
      "cell_type": "code",
      "metadata": {
        "id": "pOkgbduEqaV2",
        "colab_type": "code",
        "colab": {}
      },
      "source": [
        "def one_step_target(model, CRITERION ,images , epsilon=None ,train= True):\n",
        "    \n",
        "    # Auther suggest that set up the epsilon randomly ~ N(0, 8) (range(0,16)), in test time, use the user defined  valus. \n",
        "    if train==True:\n",
        "        epsilon=abs( torch.normal(torch.tensor([0.0]),torch.tensor([8/256]))).to(\"cuda\")\n",
        "    else:\n",
        "        epsilon=epsilon.to(\"cuda\")\n",
        "    \n",
        "    # as y_target, step l.l use y_LL (least likely class)\n",
        "    outputs = model(images)\n",
        "    _, labels = torch.min(outputs.data, 1)\n",
        "    labels = labels.detach_()\n",
        "    \n",
        "    images.requires_grad = True\n",
        "    outputs = model(images)\n",
        "    \n",
        "    \n",
        "    # gradinet of y_LL and output\n",
        "    model.zero_grad()\n",
        "    cost = CRITERION(outputs, labels)\n",
        "    cost.backward()\n",
        "\n",
        "    adv_images = images -  epsilon*images.grad.sign()\n",
        "    # Adding clipping to maintain [0,1] range\n",
        "    adv_image = torch.clamp(adv_images, 0, 1)\n",
        "    return adv_images\n",
        "    "
      ],
      "execution_count": 0,
      "outputs": []
    },
    {
      "cell_type": "code",
      "metadata": {
        "id": "uN9YpWhH3Zkk",
        "colab_type": "code",
        "colab": {}
      },
      "source": [
        "def basic_iterative(model, CRITERION, images, labels, scale, alpha=1, iters=0, eps=None, train= True) :\n",
        "    \n",
        "    images = images.to(\"cuda\")    \n",
        "    outputs = model(images)\n",
        "    _, labels = torch.min(outputs.data, 1)\n",
        "    labels = labels.detach_()\n",
        "        \n",
        "    clamp_max = 255\n",
        "    \n",
        "     # Auther suggest that set up the epsilon randomly ~ N(0, 8) (range(0,16)), in test time, use the user defined  valus.\n",
        "    if train ==True:\n",
        "        eps= abs(np.random.normal(0, 8, 1)[0])\n",
        "    else:\n",
        "        eps=eps\n",
        "        \n",
        "    if iters == 0 :\n",
        "    # The paper said min(eps + 4, 1.25*eps) is used as iterations\n",
        "        iters = int(min(eps + 4, 1.25*eps))\n",
        "        \n",
        "    if scale :\n",
        "        eps = eps / 255\n",
        "        clamp_max = clamp_max / 255\n",
        "\n",
        "    for i in range(iters) :    \n",
        "        images.requires_grad = True\n",
        "        outputs = model(images)\n",
        "\n",
        "        model.zero_grad()\n",
        "        cost = CRITERION(outputs, labels).to(\"cuda\")\n",
        "        cost.backward()\n",
        "\n",
        "        attack_images = images + alpha*images.grad.sign()\n",
        "        \n",
        "        # Clip attack images(X')\n",
        "        # min{255, X+eps, max{0, X-eps, X'}}\n",
        "        # = min{255, min{X+eps, max{max{0, X-eps}, X'}}}\n",
        "        \n",
        "        # a = max{0, X-eps}\n",
        "        a = torch.clamp(images - eps, min=0)\n",
        "        # b = max{a, X'}\n",
        "        b = (attack_images>=a).float()*attack_images + (a>attack_images).float()*a\n",
        "        # c = min{X+eps, b}\n",
        "        c = (b > images+eps).float()*(images+eps) + (images+eps >= b).float()*b\n",
        "        # d = min{255, c}\n",
        "        images = torch.clamp(c, max=clamp_max).detach_()\n",
        "            \n",
        "    return images"
      ],
      "execution_count": 0,
      "outputs": []
    },
    {
      "cell_type": "code",
      "metadata": {
        "id": "mXrTqxCMntg4",
        "colab_type": "code",
        "colab": {}
      },
      "source": [
        "def iterative_least_likely_class(model, CRITERION, images, scale, alpha=1, iters=0, eps=None, train= True) :\n",
        "    \n",
        "    images = images.to(\"cuda\")    \n",
        "    outputs = model(images)\n",
        "    _, labels = torch.min(outputs.data, 1)\n",
        "    labels = labels.detach_()\n",
        "        \n",
        "    clamp_max = 255\n",
        "    \n",
        "     # Auther suggest that set up the epsilon randomly ~ N(0, 8) (range(0,16)), in test time, use the user defined  valus.\n",
        "    if train ==True:\n",
        "        eps= abs(np.random.normal(0, 8, 1)[0])\n",
        "    else:\n",
        "        eps=eps\n",
        "        \n",
        "        \n",
        "    if iters == 0 :\n",
        "    # The paper said min(eps + 4, 1.25*eps) is used as iterations\n",
        "        iters = int(min(eps + 4, 1.25*eps))\n",
        "        \n",
        "    if scale :\n",
        "        eps = eps / 255\n",
        "        clamp_max = clamp_max / 255\n",
        "        \n",
        "    for i in range(iters) :    \n",
        "        images.requires_grad = True\n",
        "        outputs = model(images)\n",
        "\n",
        "        model.zero_grad()\n",
        "        cost = CRITERION(outputs, labels).to(\"cuda\")\n",
        "        cost.backward()\n",
        "\n",
        "        attack_images = images - alpha*images.grad.sign()\n",
        "        \n",
        "        # Clip attack images(X')\n",
        "        # min{255, X+eps, max{0, X-eps, X'}}\n",
        "        # = min{255, min{X+eps, max{max{0, X-eps}, X'}}}\n",
        "        \n",
        "        # a = max{0, X-eps}\n",
        "        a = torch.clamp(images - eps, min=0)\n",
        "        # b = max{a, X'}\n",
        "        b = (attack_images>=a).float()*attack_images + (a>attack_images).float()*a\n",
        "        # c = min{X+eps, b}\n",
        "        c = (b > images+eps).float()*(images+eps) + (images+eps >= b).float()*b\n",
        "        # d = min{255, c}\n",
        "        images = torch.clamp(c, max=clamp_max).detach_()\n",
        "    \n",
        "    return images"
      ],
      "execution_count": 0,
      "outputs": []
    },
    {
      "cell_type": "markdown",
      "metadata": {
        "id": "DrAaUPrmCgKm",
        "colab_type": "text"
      },
      "source": [
        "# model fitting and evaluation"
      ]
    },
    {
      "cell_type": "code",
      "metadata": {
        "id": "psQkPTG2gYif",
        "colab_type": "code",
        "colab": {}
      },
      "source": [
        "def fit(model,train_loader, adv, clean=None, iter=False, ll=True):\n",
        "    model.train()\n",
        "    device = next(model.parameters()).device.index\n",
        "    optimizer = torch.optim.Adam(model.parameters())\n",
        "    losses = []\n",
        "    \n",
        "    for i, data in enumerate(train_loader):\n",
        "        image = data[0].type(torch.FloatTensor).cuda(device)\n",
        "        label = data[1].type(torch.LongTensor).cuda(device)\n",
        "        \n",
        "        if adv==True and iter==False:\n",
        "            if ll==True:\n",
        "                #One-step target class method\n",
        "                adv_image=one_step_target(clean, CRITERION ,image[0:NUM_ADV] , epsilon=None ,train= True)\n",
        "            \n",
        "            else:\n",
        "                #FGSM\n",
        "                adv_image=FGSM(clean, CRITERION ,image[0:NUM_ADV] , label[0:NUM_ADV].to(\"cuda\"), epsilon=None ,train= True)\n",
        "                \n",
        "            clean_image=image[NUM_ADV:]\n",
        "            \n",
        "            adv_label=label[0:NUM_ADV]\n",
        "            clean_label=label[NUM_ADV:]\n",
        "            \n",
        "            pred_clean_label=model(clean_image)\n",
        "            pred_adv_label=model(adv_image)\n",
        "            \n",
        "            loss= CRITERION(pred_clean_label, clean_label)+LAMBDA*CRITERION(pred_adv_label, adv_label)\n",
        "        \n",
        "        elif adv==True and iter==True:\n",
        "            if ll == True: \n",
        "                #iterative_least_likely_class method\n",
        "                adv_image=iterative_least_likely_class(clean, CRITERION, image[0:NUM_ADV], scale=1, eps=None,  train= True)\n",
        "            \n",
        "            else:\n",
        "                #basic_iterative method\n",
        "                adv_image=basic_iterative(clean, CRITERION, image[0:NUM_ADV], label[0:NUM_ADV].to(\"cuda\"), scale=1, eps=None,  train= True)\n",
        "        \n",
        "            clean_image=image[NUM_ADV:]\n",
        "            \n",
        "            adv_label=label[0:NUM_ADV]\n",
        "            clean_label=label[NUM_ADV:]\n",
        "            \n",
        "            pred_clean_label=model(clean_image)\n",
        "            pred_adv_label=model(adv_image)\n",
        "            \n",
        "            loss= CRITERION(pred_clean_label, clean_label)+LAMBDA*CRITERION(pred_adv_label, adv_label)\n",
        "          \n",
        "        else:\n",
        "            # clean image case\n",
        "            pred_label = model(image)\n",
        "            loss = CRITERION(pred_label, label)\n",
        "        \n",
        "        \n",
        "        losses.append(loss.item())\n",
        "        optimizer.zero_grad()\n",
        "        loss.backward()\n",
        "        optimizer.step()\n",
        "        \n",
        "    \n",
        "    avg_loss = sum(losses)/len(losses)\n",
        "    return avg_loss"
      ],
      "execution_count": 0,
      "outputs": []
    },
    {
      "cell_type": "code",
      "metadata": {
        "id": "f500WKAggZVX",
        "colab_type": "code",
        "colab": {}
      },
      "source": [
        "def eval(model, test_loader, epsilon, adv, clean=None, iter=False, ll=True):\n",
        "    model.eval()\n",
        "    device = next(model.parameters()).device.index\n",
        "    pred_labels = []\n",
        "    real_labels = []\n",
        "\n",
        "    for i, data in enumerate(test_loader):\n",
        "        image = data[0].type(torch.FloatTensor).cuda(device)\n",
        "        label = data[1].type(torch.LongTensor).cuda(device)\n",
        "        \n",
        "        if adv==True and iter==False:\n",
        "            if ll==True:\n",
        "                #One-step target class method\n",
        "                image=one_step_target(clean, CRITERION ,image , epsilon ,train= False)\n",
        "            else:\n",
        "                #FGSM\n",
        "                image=FGSM(clean, CRITERION ,image , label.to(\"cuda\"), epsilon ,train= False)\n",
        "                \n",
        "                \n",
        "        elif adv==True and iter==True:\n",
        "            if ll== True:\n",
        "                #iterative_least_likely_class method\n",
        "                image=iterative_least_likely_class(clean, CRITERION, image, scale=1, alpha=1, eps=epsilon,  train= False)\n",
        "            else:\n",
        "                #basic_iterative method\n",
        "                image=basic_iterative(clean, CRITERION, image, label.to(\"cuda\"), scale=1, alpha=1,  eps=epsilon,  train= False)\n",
        "            \n",
        "        \n",
        "        real_labels += list(label.cpu().detach().numpy())\n",
        "        pred_label = model(image)\n",
        "        pred_label = list(pred_label.cpu().detach().numpy())\n",
        "        pred_labels += pred_label\n",
        "        \n",
        "    real_labels = np.array(real_labels)\n",
        "    pred_labels = np.array(pred_labels)\n",
        "    pred_labels = pred_labels.argmax(axis=1)\n",
        "    acc = sum(real_labels==pred_labels)/len(real_labels)*100\n",
        "    \n",
        "    return acc"
      ],
      "execution_count": 0,
      "outputs": []
    },
    {
      "cell_type": "code",
      "metadata": {
        "id": "YCVrpOU4gmxn",
        "colab_type": "code",
        "colab": {}
      },
      "source": [
        "class SimpleResNet(nn.Module):\n",
        "    def __init__(self):\n",
        "        super(SimpleResNet, self).__init__()\n",
        "        \n",
        "        self.conv1_1 = nn.Conv2d(3, 32, kernel_size=3, stride=1, padding=1)\n",
        "        self.act1_1 = nn.ReLU()\n",
        "        self.conv1_2 = nn.Conv2d(32, 32, kernel_size=3, stride=1, padding=1)\n",
        "        self.act1_2 = nn.ReLU()\n",
        "        self.pool1 = nn.MaxPool2d(2)\n",
        "        \n",
        "        self.conv2_1 = nn.Conv2d(32, 64, kernel_size=3, stride=1, padding=1)\n",
        "        self.act2_1 = nn.ReLU()\n",
        "        self.conv2_2 = nn.Conv2d(64, 64, kernel_size=3, stride=1, padding=1)\n",
        "        self.act2_2 = nn.ReLU()\n",
        "        self.conv2_3 = nn.Conv2d(64, 64, kernel_size=3, stride=1, padding=1)\n",
        "        \n",
        "        self.shortcut1 = nn.Sequential(self.conv2_2, self.act2_2, self.conv2_3)\n",
        "        \n",
        "        self.act2_3 = nn.ReLU()\n",
        "        self.pool2 = nn.MaxPool2d(2)\n",
        "        \n",
        "        self.conv3_1 = nn.Conv2d(64, 128, kernel_size=3, stride=1, padding=1)\n",
        "        self.act3_1 = nn.ReLU()\n",
        "        self.conv3_2 = nn.Conv2d(128, 128, kernel_size=3, stride=1, padding=1)\n",
        "        self.act3_2 = nn.ReLU()\n",
        "        self.conv3_3 = nn.Conv2d(128, 128, kernel_size=3, stride=1, padding=1)\n",
        "        \n",
        "        self.shortcut2 = nn.Sequential(self.conv3_2, self.act3_2, self.conv3_3)\n",
        "        \n",
        "        self.act3_3 = nn.ReLU()\n",
        "        self.pool3 = nn.AvgPool2d(8)\n",
        "        \n",
        "        # Output layer\n",
        "        self.out = nn.Linear(128*1*1, 10)\n",
        "    \n",
        "    def forward(self, x):\n",
        "        x=self.act1_1(self.conv1_1(x))\n",
        "        x=self.act1_2(self.conv1_2(x))\n",
        "        x=self.pool1(x)\n",
        "        \n",
        "        x=self.act2_1(self.conv2_1(x))\n",
        "        x=self.act2_3(x+self.shortcut1(x))\n",
        "        x=self.pool2(x)\n",
        "        \n",
        "        x=self.act3_1(self.conv3_1(x))\n",
        "        x=self.act3_3(x+self.shortcut2(x))\n",
        "        x=self.pool3(x)\n",
        "        x = x.view(-1, 128*1*1)\n",
        "\n",
        "        out = self.out(x)\n",
        "        return out"
      ],
      "execution_count": 0,
      "outputs": []
    },
    {
      "cell_type": "code",
      "metadata": {
        "id": "-B1MIjNbuRbV",
        "colab_type": "code",
        "outputId": "6894a064-55de-4959-fce5-38f70cd45b70",
        "colab": {
          "base_uri": "https://localhost:8080/",
          "height": 35
        }
      },
      "source": [
        "#clean_model with simple ResNet\n",
        "clean_model = SimpleResNet().cuda()\n",
        "train_loss = []\n",
        "test_accuracy = []\n",
        "for epoch in tqdm(range(NUM_EPOCH)):\n",
        "    train_loss.append(fit(clean_model, train_loader, adv=False))\n",
        "    test_accuracy.append(eval(clean_model, test_loader, epsilon=torch.tensor([0/256]), adv=False))"
      ],
      "execution_count": 0,
      "outputs": [
        {
          "output_type": "stream",
          "text": [
            "100%|██████████| 50/50 [09:53<00:00, 11.93s/it]\n"
          ],
          "name": "stderr"
        }
      ]
    },
    {
      "cell_type": "code",
      "metadata": {
        "id": "uRdfaMqx3RxX",
        "colab_type": "code",
        "outputId": "aaee9137-0faa-4718-82a1-d85907e59b2a",
        "colab": {
          "base_uri": "https://localhost:8080/",
          "height": 350
        }
      },
      "source": [
        "# Plotting the training loss and test accuracy\n",
        "fig = plt.figure(figsize=(15,5))\n",
        "pl =plt.subplot(121)\n",
        "pl.plot(train_loss, 'r', linestyle='-', label='simpleResNet')\n",
        "pl.set_title('train Loss')\n",
        "pl.set_xlabel('epoch')\n",
        "pl.set_ylabel(\"loss\")\n",
        "pl.set_ylim(0,2.5)\n",
        "pl.set_xlim(0,50)\n",
        "pl.legend()\n",
        "\n",
        "pl =plt.subplot(122)\n",
        "pl.plot(test_accuracy, 'r', linestyle='-', label='simpleResNet')\n",
        "pl.set_title('test accuracy')\n",
        "pl.set_xlabel('epoch')\n",
        "pl.set_ylabel(\"accuracy\")\n",
        "pl.set_ylim(0,100)\n",
        "pl.set_xlim(0,50)\n",
        "pl.legend()\n",
        "\n",
        "\n",
        "plt.show()"
      ],
      "execution_count": 0,
      "outputs": [
        {
          "output_type": "display_data",
          "data": {
            "image/png": "[encoded data removed]",
            "text/plain": [
              "<Figure size 1080x360 with 2 Axes>"
            ]
          },
          "metadata": {
            "tags": []
          }
        }
      ]
    },
    {
      "cell_type": "markdown",
      "metadata": {
        "id": "ZSKwl-ZY6zZb",
        "colab_type": "text"
      },
      "source": [
        "# Adversarial example(Images)"
      ]
    },
    {
      "cell_type": "code",
      "metadata": {
        "id": "6XpPof7-I2q4",
        "colab_type": "code",
        "colab": {}
      },
      "source": [
        "train_iter = iter(train_loader)\n",
        "images, labels = train_iter.next()\n",
        "\n",
        "eps=[torch.tensor([0/256]), torch.tensor([2/256]), torch.tensor([4/256]), torch.tensor([8/256]), torch.tensor([16/256])]\n",
        "eps2=[0, 2, 4, 8, 16]"
      ],
      "execution_count": 0,
      "outputs": []
    },
    {
      "cell_type": "code",
      "metadata": {
        "id": "ZKl6x2EK-YDu",
        "colab_type": "code",
        "outputId": "88489363-ef3b-4521-827a-3a55af3f6a4a",
        "colab": {
          "base_uri": "https://localhost:8080/",
          "height": 35
        }
      },
      "source": [
        "print(\"FGSM Example\")\n",
        "for e in eps:\n",
        "    if e==torch.tensor([0/256]):\n",
        "        prev=FGSM(clean_model, CRITERION ,images[0:1].to(\"cuda\"), labels[0:1].to(\"cuda\"), epsilon=e, train= False).to(\"cpu\")\n",
        "        continue\n",
        "    else:\n",
        "        x=FGSM(clean_model, CRITERION ,images[0:1].to(\"cuda\"), labels[0:1].to(\"cuda\"), epsilon=e, train= False).to(\"cpu\")\n",
        "        prev=torch.cat([prev, x])"
      ],
      "execution_count": 0,
      "outputs": [
        {
          "output_type": "stream",
          "text": [
            "FGSM Example\n"
          ],
          "name": "stdout"
        }
      ]
    },
    {
      "cell_type": "code",
      "metadata": {
        "id": "ayLD1sqn_Ey4",
        "colab_type": "code",
        "outputId": "74b12e37-fe07-49cb-f392-565a081b68fe",
        "colab": {
          "base_uri": "https://localhost:8080/",
          "height": 227
        }
      },
      "source": [
        "imshow(torchvision.utils.make_grid(prev, normalize=True))"
      ],
      "execution_count": 0,
      "outputs": [
        {
          "output_type": "display_data",
          "data": {
            "image/png": "[encoded data removed]",
            "text/plain": [
              "<Figure size 1080x2160 with 1 Axes>"
            ]
          },
          "metadata": {
            "tags": []
          }
        }
      ]
    },
    {
      "cell_type": "code",
      "metadata": {
        "id": "GzNtaJ0huz6g",
        "colab_type": "code",
        "outputId": "e9fb2822-c14e-4a84-8dc3-d7b8bafc5fd4",
        "colab": {
          "base_uri": "https://localhost:8080/",
          "height": 35
        }
      },
      "source": [
        "print(\"step 1.1 Example\")\n",
        "for e in eps:\n",
        "    if e==torch.tensor([0/256]):\n",
        "        prev1=one_step_target(clean_model, CRITERION ,images[0:1].to(\"cuda\") , epsilon=e, train= False).to(\"cpu\")\n",
        "        continue\n",
        "    else:\n",
        "        x=one_step_target(clean_model, CRITERION ,images[0:1].to(\"cuda\") , epsilon=e, train= False).to(\"cpu\")\n",
        "        prev1=torch.cat([prev1, x])"
      ],
      "execution_count": 0,
      "outputs": [
        {
          "output_type": "stream",
          "text": [
            "step 1.1 Example\n"
          ],
          "name": "stdout"
        }
      ]
    },
    {
      "cell_type": "code",
      "metadata": {
        "id": "KWuYMFz7v_Q0",
        "colab_type": "code",
        "outputId": "63df21f4-2ad2-4d04-bd73-51788e67763c",
        "colab": {
          "base_uri": "https://localhost:8080/",
          "height": 227
        }
      },
      "source": [
        "imshow(torchvision.utils.make_grid(prev1, normalize=True))"
      ],
      "execution_count": 0,
      "outputs": [
        {
          "output_type": "display_data",
          "data": {
            "image/png": "[encoded data removed]",
            "text/plain": [
              "<Figure size 1080x2160 with 1 Axes>"
            ]
          },
          "metadata": {
            "tags": []
          }
        }
      ]
    },
    {
      "cell_type": "code",
      "metadata": {
        "id": "kxfksMUEPq2t",
        "colab_type": "code",
        "colab": {}
      },
      "source": [
        "for e in eps2:\n",
        "    if e==torch.tensor([0/256]):\n",
        "        prev2=iterative_least_likely_class(clean_model, CRITERION ,images[0:1].to(\"cuda\") , scale=1 , alpha=1, eps=e, train=False).to(\"cpu\")\n",
        "        continue\n",
        "    else:\n",
        "        x=iterative_least_likely_class(clean_model, CRITERION ,images[0:1].to(\"cuda\") , scale=1 , alpha=1, eps=e, train=False).to(\"cpu\")\n",
        "        prev2=torch.cat([prev2, x])"
      ],
      "execution_count": 0,
      "outputs": []
    },
    {
      "cell_type": "code",
      "metadata": {
        "id": "qCbDo4UG0bDm",
        "colab_type": "code",
        "outputId": "fda74114-30cd-4856-c480-dd94f393352c",
        "colab": {
          "base_uri": "https://localhost:8080/",
          "height": 227
        }
      },
      "source": [
        "imshow(torchvision.utils.make_grid(prev2, normalize=True))"
      ],
      "execution_count": 0,
      "outputs": [
        {
          "output_type": "display_data",
          "data": {
            "image/png": "[encoded data removed]",
            "text/plain": [
              "<Figure size 1080x2160 with 1 Axes>"
            ]
          },
          "metadata": {
            "tags": []
          }
        }
      ]
    },
    {
      "cell_type": "code",
      "metadata": {
        "id": "DICCrpJR_iug",
        "colab_type": "code",
        "colab": {}
      },
      "source": [
        "for e in eps2:\n",
        "    if e==torch.tensor([0/256]):\n",
        "        prev3= basic_iterative(clean_model, CRITERION ,images[0:1].to(\"cuda\"), labels[0:1].to(\"cuda\"),  scale=1 , alpha=1, eps=e, train=False).to(\"cpu\")\n",
        "        continue\n",
        "    else:\n",
        "        x= basic_iterative(clean_model, CRITERION ,images[0:1].to(\"cuda\"), labels[0:1].to(\"cuda\"), scale=1 , alpha=1, eps=e, train=False).to(\"cpu\")\n",
        "        prev3=torch.cat([prev3, x])"
      ],
      "execution_count": 0,
      "outputs": []
    },
    {
      "cell_type": "code",
      "metadata": {
        "id": "jaRAjdxX_k9M",
        "colab_type": "code",
        "outputId": "5d790a70-99b6-4e84-f1ca-e5a8aa401eb7",
        "colab": {
          "base_uri": "https://localhost:8080/",
          "height": 227
        }
      },
      "source": [
        "imshow(torchvision.utils.make_grid(prev3, normalize=True))"
      ],
      "execution_count": 0,
      "outputs": [
        {
          "output_type": "display_data",
          "data": {
            "image/png": "[encoded data removed]",
            "text/plain": [
              "<Figure size 1080x2160 with 1 Axes>"
            ]
          },
          "metadata": {
            "tags": []
          }
        }
      ]
    },
    {
      "cell_type": "code",
      "metadata": {
        "id": "y2RJdqk1plcP",
        "colab_type": "code",
        "outputId": "9b16ba25-b73c-49a6-f437-3ba42c01da84",
        "colab": {
          "base_uri": "https://localhost:8080/",
          "height": 35
        }
      },
      "source": [
        "#stepl.l with SimpleResNet(in test time, we use epslion=2 )\n",
        "step1= SimpleResNet().cuda()\n",
        "train_loss1 = []\n",
        "test_accuracy1 = []\n",
        "for epoch in tqdm(range(NUM_EPOCH)):\n",
        "    train_loss1.append(fit(step1, train_loader, adv=True, clean= clean_model))\n",
        "    test_accuracy1.append(eval(step1, test_loader, epsilon=torch.tensor([2/256]), adv=True, clean=clean_model))"
      ],
      "execution_count": 0,
      "outputs": [
        {
          "output_type": "stream",
          "text": [
            "100%|██████████| 50/50 [18:08<00:00, 21.80s/it]\n"
          ],
          "name": "stderr"
        }
      ]
    },
    {
      "cell_type": "code",
      "metadata": {
        "id": "n8ePy7F1BcNQ",
        "colab_type": "code",
        "outputId": "7e5d7742-02c3-4f20-ec7b-029211d44ad2",
        "colab": {
          "base_uri": "https://localhost:8080/",
          "height": 35
        }
      },
      "source": [
        "#FGSM with SimpleResNet\n",
        "FGSM_model= SimpleResNet().cuda()\n",
        "train_loss2 = []\n",
        "test_accuracy2 = []\n",
        "for epoch in tqdm(range(NUM_EPOCH)):\n",
        "    train_loss2.append(fit(FGSM_model, train_loader, adv=True, clean= clean_model, ll=False))\n",
        "    test_accuracy2.append(eval(FGSM_model, test_loader, epsilon=torch.tensor([2/256]), adv=True, clean=clean_model, ll=False))"
      ],
      "execution_count": 0,
      "outputs": [
        {
          "output_type": "stream",
          "text": [
            "100%|██████████| 50/50 [16:09<00:00, 19.36s/it]\n"
          ],
          "name": "stderr"
        }
      ]
    },
    {
      "cell_type": "code",
      "metadata": {
        "id": "j5QfCDXDqJvK",
        "colab_type": "code",
        "outputId": "033664c9-dc81-4ab5-d1f9-cb3a2e7da42b",
        "colab": {
          "base_uri": "https://localhost:8080/",
          "height": 35
        }
      },
      "source": [
        "#baseline with SimpleResNet\n",
        "baseline= SimpleResNet().cuda()\n",
        "train_loss3 = []\n",
        "test_accuracy3 = []\n",
        "for epoch in tqdm(range(NUM_EPOCH)):\n",
        "    train_loss3.append(fit(baseline, train_loader, adv=False))\n",
        "    test_accuracy3.append(eval(baseline, test_loader, epsilon=torch.tensor([2/256]), adv=True, clean=clean_model))"
      ],
      "execution_count": 0,
      "outputs": [
        {
          "output_type": "stream",
          "text": [
            "100%|██████████| 50/50 [12:07<00:00, 14.60s/it]\n"
          ],
          "name": "stderr"
        }
      ]
    },
    {
      "cell_type": "code",
      "metadata": {
        "id": "k7Sk3bT1r25T",
        "colab_type": "code",
        "outputId": "07e45b5b-5581-4f1e-9fb8-d5cd6b01cbbd",
        "colab": {
          "base_uri": "https://localhost:8080/",
          "height": 350
        }
      },
      "source": [
        "# Plotting the training loss and test accuracy when eps=2 (with small noise)\n",
        "fig = plt.figure(figsize=(15,5))\n",
        "pl =plt.subplot(121)\n",
        "pl.plot(train_loss1, 'r', linestyle='-', label='step1.1')\n",
        "pl.plot(train_loss2, 'g', linestyle='-', label='FSGM')\n",
        "pl.plot(train_loss3, 'b', linestyle='-', label='baseline')\n",
        "pl.set_title('train Loss')\n",
        "pl.set_xlabel('epoch')\n",
        "pl.set_ylabel(\"loss\")\n",
        "pl.set_ylim(0,5)\n",
        "pl.set_xlim(0,50)\n",
        "pl.legend()\n",
        "\n",
        "pl =plt.subplot(122)\n",
        "pl.plot(test_accuracy1, 'r', linestyle='-', label='step1.1')\n",
        "pl.plot(test_accuracy2, 'g', linestyle='-', label='FSGM')\n",
        "pl.plot(test_accuracy3, 'b', linestyle='-', label='baseline')\n",
        "pl.set_title('test accuracy')\n",
        "pl.set_xlabel('epoch')\n",
        "pl.set_ylabel(\"accuracy\")\n",
        "pl.set_ylim(0,100)\n",
        "pl.set_xlim(0,50)\n",
        "pl.legend()\n",
        "\n",
        "\n",
        "plt.show()"
      ],
      "execution_count": 0,
      "outputs": [
        {
          "output_type": "display_data",
          "data": {
            "image/png": "[encoded data removed]",
            "text/plain": [
              "<Figure size 1080x360 with 2 Axes>"
            ]
          },
          "metadata": {
            "tags": []
          }
        }
      ]
    },
    {
      "cell_type": "code",
      "metadata": {
        "id": "ITAMWdP15B6y",
        "colab_type": "code",
        "outputId": "a80de6c4-647d-441d-b72d-ab88423ba96c",
        "colab": {
          "base_uri": "https://localhost:8080/",
          "height": 224
        }
      },
      "source": [
        "eps=[torch.tensor([0/256]),torch.tensor([2/256]), torch.tensor([4/256]), torch.tensor([8/256]), torch.tensor([16/256])]\n",
        "adv_accuracy=[]\n",
        "FSGM_accuracy=[]\n",
        "base_accuracy=[]\n",
        "for e in eps:\n",
        "    adv_accuracy.append(eval(step1, test_loader, epsilon=e, adv=True, clean=clean_model))\n",
        "    FSGM_accuracy.append(eval(FGSM_model, test_loader, epsilon=e, adv=True, clean=clean_model))\n",
        "    base_accuracy.append(eval(baseline, test_loader, epsilon=e, adv=True, clean=clean_model))"
      ],
      "execution_count": 0,
      "outputs": [
        {
          "output_type": "error",
          "ename": "NameError",
          "evalue": "ignored",
          "traceback": [
            "\u001b[0;31m---------------------------------------------------------------------------\u001b[0m",
            "\u001b[0;31mNameError\u001b[0m                                 Traceback (most recent call last)",
            "\u001b[0;32m<ipython-input-14-61a404fcd08f>\u001b[0m in \u001b[0;36m<module>\u001b[0;34m()\u001b[0m\n\u001b[1;32m      5\u001b[0m \u001b[0;32mfor\u001b[0m \u001b[0me\u001b[0m \u001b[0;32min\u001b[0m \u001b[0meps\u001b[0m\u001b[0;34m:\u001b[0m\u001b[0;34m\u001b[0m\u001b[0;34m\u001b[0m\u001b[0m\n\u001b[1;32m      6\u001b[0m     \u001b[0madv_accuracy\u001b[0m\u001b[0;34m.\u001b[0m\u001b[0mappend\u001b[0m\u001b[0;34m(\u001b[0m\u001b[0meval\u001b[0m\u001b[0;34m(\u001b[0m\u001b[0mstep1\u001b[0m\u001b[0;34m,\u001b[0m \u001b[0mtest_loader\u001b[0m\u001b[0;34m,\u001b[0m \u001b[0mepsilon\u001b[0m\u001b[0;34m=\u001b[0m\u001b[0me\u001b[0m\u001b[0;34m,\u001b[0m \u001b[0madv\u001b[0m\u001b[0;34m=\u001b[0m\u001b[0;32mTrue\u001b[0m\u001b[0;34m,\u001b[0m \u001b[0mclean\u001b[0m\u001b[0;34m=\u001b[0m\u001b[0mclean_model\u001b[0m\u001b[0;34m)\u001b[0m\u001b[0;34m)\u001b[0m\u001b[0;34m\u001b[0m\u001b[0;34m\u001b[0m\u001b[0m\n\u001b[0;32m----> 7\u001b[0;31m     \u001b[0mFSGM_accuracy\u001b[0m\u001b[0;34m.\u001b[0m\u001b[0mappend\u001b[0m\u001b[0;34m(\u001b[0m\u001b[0meval\u001b[0m\u001b[0;34m(\u001b[0m\u001b[0mFGSM_model\u001b[0m\u001b[0;34m,\u001b[0m \u001b[0mtest_loader\u001b[0m\u001b[0;34m,\u001b[0m \u001b[0mepsilon\u001b[0m\u001b[0;34m=\u001b[0m\u001b[0me\u001b[0m\u001b[0;34m,\u001b[0m \u001b[0madv\u001b[0m\u001b[0;34m=\u001b[0m\u001b[0;32mTrue\u001b[0m\u001b[0;34m,\u001b[0m \u001b[0mclean\u001b[0m\u001b[0;34m=\u001b[0m\u001b[0mclean_model\u001b[0m\u001b[0;34m)\u001b[0m\u001b[0;34m)\u001b[0m\u001b[0;34m\u001b[0m\u001b[0;34m\u001b[0m\u001b[0m\n\u001b[0m\u001b[1;32m      8\u001b[0m     \u001b[0mbase_accuracy\u001b[0m\u001b[0;34m.\u001b[0m\u001b[0mappend\u001b[0m\u001b[0;34m(\u001b[0m\u001b[0meval\u001b[0m\u001b[0;34m(\u001b[0m\u001b[0mbaseline\u001b[0m\u001b[0;34m,\u001b[0m \u001b[0mtest_loader\u001b[0m\u001b[0;34m,\u001b[0m \u001b[0mepsilon\u001b[0m\u001b[0;34m=\u001b[0m\u001b[0me\u001b[0m\u001b[0;34m,\u001b[0m \u001b[0madv\u001b[0m\u001b[0;34m=\u001b[0m\u001b[0;32mTrue\u001b[0m\u001b[0;34m,\u001b[0m \u001b[0mclean\u001b[0m\u001b[0;34m=\u001b[0m\u001b[0mclean_model\u001b[0m\u001b[0;34m)\u001b[0m\u001b[0;34m)\u001b[0m\u001b[0;34m\u001b[0m\u001b[0;34m\u001b[0m\u001b[0m\n",
            "\u001b[0;31mNameError\u001b[0m: name 'FGSM_model' is not defined"
          ]
        }
      ]
    },
    {
      "cell_type": "code",
      "metadata": {
        "id": "QN1QpSOQE7iS",
        "colab_type": "code",
        "outputId": "ffe86315-3e2b-4bb7-8454-8ef9d955169f",
        "colab": {
          "base_uri": "https://localhost:8080/",
          "height": 109
        }
      },
      "source": [
        "#compare adv.training(Step l.l) and baseline\n",
        "index=['clean','2', '4', '8', '16']\n",
        "result={'step1.1': adv_accuracy, 'baseline': base_accuracy\n",
        "}\n",
        "result=DataFrame(result, index=index)\n",
        "result.T"
      ],
      "execution_count": 0,
      "outputs": [
        {
          "output_type": "execute_result",
          "data": {
            "text/html": [
              "<div>\n",
              "<style scoped>\n",
              "    .dataframe tbody tr th:only-of-type {\n",
              "        vertical-align: middle;\n",
              "    }\n",
              "\n",
              "    .dataframe tbody tr th {\n",
              "        vertical-align: top;\n",
              "    }\n",
              "\n",
              "    .dataframe thead th {\n",
              "        text-align: right;\n",
              "    }\n",
              "</style>\n",
              "<table border=\"1\" class=\"dataframe\">\n",
              "  <thead>\n",
              "    <tr style=\"text-align: right;\">\n",
              "      <th></th>\n",
              "      <th>clean</th>\n",
              "      <th>2</th>\n",
              "      <th>4</th>\n",
              "      <th>8</th>\n",
              "      <th>16</th>\n",
              "    </tr>\n",
              "  </thead>\n",
              "  <tbody>\n",
              "    <tr>\n",
              "      <th>step1.1</th>\n",
              "      <td>76.78</td>\n",
              "      <td>76.09</td>\n",
              "      <td>75.25</td>\n",
              "      <td>73.09</td>\n",
              "      <td>68.07</td>\n",
              "    </tr>\n",
              "    <tr>\n",
              "      <th>baseline</th>\n",
              "      <td>80.41</td>\n",
              "      <td>77.12</td>\n",
              "      <td>71.62</td>\n",
              "      <td>56.48</td>\n",
              "      <td>33.62</td>\n",
              "    </tr>\n",
              "  </tbody>\n",
              "</table>\n",
              "</div>"
            ],
            "text/plain": [
              "          clean      2      4      8     16\n",
              "step1.1   76.78  76.09  75.25  73.09  68.07\n",
              "baseline  80.41  77.12  71.62  56.48  33.62"
            ]
          },
          "metadata": {
            "tags": []
          },
          "execution_count": 28
        }
      ]
    },
    {
      "cell_type": "code",
      "metadata": {
        "id": "8yG8r1pl9Bi4",
        "colab_type": "code",
        "outputId": "cbcdc19b-ce34-4687-d3ef-5ea874e1ce27",
        "colab": {
          "base_uri": "https://localhost:8080/",
          "height": 109
        }
      },
      "source": [
        "index=['clean','2', '4', '8', '16']\n",
        "result5={\"FSGM\": FSGM_accuracy,'step1.1': adv_accuracy\n",
        "}\n",
        "result5=DataFrame(result5, index=index)\n",
        "result5.T"
      ],
      "execution_count": 0,
      "outputs": [
        {
          "output_type": "execute_result",
          "data": {
            "text/html": [
              "<div>\n",
              "<style scoped>\n",
              "    .dataframe tbody tr th:only-of-type {\n",
              "        vertical-align: middle;\n",
              "    }\n",
              "\n",
              "    .dataframe tbody tr th {\n",
              "        vertical-align: top;\n",
              "    }\n",
              "\n",
              "    .dataframe thead th {\n",
              "        text-align: right;\n",
              "    }\n",
              "</style>\n",
              "<table border=\"1\" class=\"dataframe\">\n",
              "  <thead>\n",
              "    <tr style=\"text-align: right;\">\n",
              "      <th></th>\n",
              "      <th>clean</th>\n",
              "      <th>2</th>\n",
              "      <th>4</th>\n",
              "      <th>8</th>\n",
              "      <th>16</th>\n",
              "    </tr>\n",
              "  </thead>\n",
              "  <tbody>\n",
              "    <tr>\n",
              "      <th>FSGM</th>\n",
              "      <td>80.46</td>\n",
              "      <td>77.71</td>\n",
              "      <td>74.55</td>\n",
              "      <td>66.60</td>\n",
              "      <td>51.60</td>\n",
              "    </tr>\n",
              "    <tr>\n",
              "      <th>step1.1</th>\n",
              "      <td>76.78</td>\n",
              "      <td>76.09</td>\n",
              "      <td>75.25</td>\n",
              "      <td>73.09</td>\n",
              "      <td>68.07</td>\n",
              "    </tr>\n",
              "  </tbody>\n",
              "</table>\n",
              "</div>"
            ],
            "text/plain": [
              "         clean      2      4      8     16\n",
              "FSGM     80.46  77.71  74.55  66.60  51.60\n",
              "step1.1  76.78  76.09  75.25  73.09  68.07"
            ]
          },
          "metadata": {
            "tags": []
          },
          "execution_count": 29
        }
      ]
    },
    {
      "cell_type": "markdown",
      "metadata": {
        "id": "Kc7nxKKMosb1",
        "colab_type": "text"
      },
      "source": [
        "# more deeper"
      ]
    },
    {
      "cell_type": "code",
      "metadata": {
        "id": "Cop8U8WUooDV",
        "colab_type": "code",
        "colab": {}
      },
      "source": [
        "class DeepResNet(nn.Module):\n",
        "    def __init__(self):\n",
        "        super(DeepResNet, self).__init__()\n",
        "        \n",
        "        self.conv1_1 = nn.Conv2d(3, 32, kernel_size=3, stride=1, padding=1)\n",
        "        self.act1_1 = nn.ReLU()\n",
        "        self.conv1_2 = nn.Conv2d(32, 32, kernel_size=3, stride=1, padding=1)\n",
        "        self.act1_2 = nn.ReLU()\n",
        "        self.pool1 = nn.MaxPool2d(2)\n",
        "        \n",
        "        self.conv2_1 = nn.Conv2d(32, 64, kernel_size=3, stride=1, padding=1)\n",
        "        self.act2_1 = nn.ReLU()\n",
        "        self.conv2_2 = nn.Conv2d(64, 64, kernel_size=3, stride=1, padding=1)\n",
        "        self.act2_2 = nn.ReLU()\n",
        "        self.conv2_3 = nn.Conv2d(64, 64, kernel_size=3, stride=1, padding=1)\n",
        "        \n",
        "        self.shortcut1 = nn.Sequential(self.conv2_2, self.act2_2, self.conv2_3)\n",
        "        \n",
        "        self.act2_3 = nn.ReLU()\n",
        "        self.pool2 = nn.MaxPool2d(2)\n",
        "        \n",
        "        self.conv3_1 = nn.Conv2d(64, 128, kernel_size=3, stride=1, padding=1)\n",
        "        self.act3_1 = nn.ReLU()\n",
        "        self.conv3_2 = nn.Conv2d(128, 128, kernel_size=3, stride=1, padding=1)\n",
        "        self.act3_2 = nn.ReLU()\n",
        "        self.conv3_3 = nn.Conv2d(128, 128, kernel_size=3, stride=1, padding=1)\n",
        "        \n",
        "        self.shortcut2 = nn.Sequential(self.conv3_2, self.act3_2, self.conv3_3)\n",
        "        \n",
        "        self.act3_3 = nn.ReLU()\n",
        "        self.pool3 = nn.AvgPool2d(2)\n",
        "        \n",
        "        #add addtional layers\n",
        "        self.conv4_1 = nn.Conv2d(128, 256, kernel_size=3, stride=1, padding=1)\n",
        "        self.act4_1 = nn.ReLU()\n",
        "        self.conv4_2 = nn.Conv2d(256, 256, kernel_size=3, stride=1, padding=1)\n",
        "        self.act4_2 = nn.ReLU()\n",
        "        self.conv4_3 = nn.Conv2d(256, 256, kernel_size=3, stride=1, padding=1)\n",
        "        \n",
        "        self.shortcut3 = nn.Sequential(self.conv4_2, self.act4_2, self.conv4_3)\n",
        "        \n",
        "        self.act4_3 = nn.ReLU()\n",
        "        self.pool4 = nn.AvgPool2d(4)\n",
        "        \n",
        "        \n",
        "        \n",
        "        \n",
        "        # Output layer\n",
        "        self.out = nn.Linear(256*1*1, 10)\n",
        "    \n",
        "    def forward(self, x):\n",
        "        x=self.act1_1(self.conv1_1(x))\n",
        "        x=self.act1_2(self.conv1_2(x))\n",
        "        x=self.pool1(x)\n",
        "        \n",
        "        x=self.act2_1(self.conv2_1(x))\n",
        "        x=self.act2_3(x+self.shortcut1(x))\n",
        "        x=self.pool2(x)\n",
        "        \n",
        "        x=self.act3_1(self.conv3_1(x))\n",
        "        x=self.act3_3(x+self.shortcut2(x))\n",
        "        x=self.pool3(x)\n",
        "        \n",
        "        x=self.act4_1(self.conv4_1(x))\n",
        "        x=self.act4_3(x+self.shortcut3(x))\n",
        "        x=self.pool4(x)\n",
        "        x = x.view(-1, 256*1*1)\n",
        "\n",
        "        out = self.out(x)\n",
        "        return out"
      ],
      "execution_count": 0,
      "outputs": []
    },
    {
      "cell_type": "code",
      "metadata": {
        "id": "OGkzloCRXUkK",
        "colab_type": "code",
        "colab": {}
      },
      "source": [
        "#clean model2\n",
        "clean_model2=DeepResNet().cuda()\n",
        "train_loss4 = []\n",
        "test_accuracy4 = []\n",
        "for epoch in tqdm(range(NUM_EPOCH)):\n",
        "    train_loss4.append(fit(clean_model2, train_loader, adv=False, clean= clean_model))\n",
        "    test_accuracy4.append(eval(clean_model2, test_loader, epsilon=torch.tensor([0/256]), adv=False))"
      ],
      "execution_count": 0,
      "outputs": []
    },
    {
      "cell_type": "code",
      "metadata": {
        "id": "FMsLU0-fXsTI",
        "colab_type": "code",
        "outputId": "3b6190df-0d2e-456b-ffbf-34df7ee46c52",
        "colab": {
          "base_uri": "https://localhost:8080/",
          "height": 350
        }
      },
      "source": [
        "# Plotting the training loss and test accuracy\n",
        "# This plot show deeper net is more perform than simple Network\n",
        "fig = plt.figure(figsize=(15,5))\n",
        "pl =plt.subplot(121)\n",
        "pl.plot(train_loss, 'r', linestyle='-', label='SimpleResNet')\n",
        "pl.plot(train_loss4, 'b', linestyle='-', label='DeepResNet')\n",
        "pl.set_title('train Loss')\n",
        "pl.set_xlabel('epoch')\n",
        "pl.set_ylabel(\"loss\")\n",
        "pl.set_ylim(0,2.5)\n",
        "pl.set_xlim(0,50)\n",
        "pl.legend()\n",
        "\n",
        "pl =plt.subplot(122)\n",
        "pl.plot(test_accuracy, 'r', linestyle='-', label='SimpleResNet')\n",
        "pl.plot(test_accuracy4, 'b', linestyle='-', label='DeepResNet')\n",
        "pl.set_title('test accuracy')\n",
        "pl.set_xlabel('epoch')\n",
        "pl.set_ylabel(\"accuracy\")\n",
        "pl.set_ylim(0,100)\n",
        "pl.set_xlim(0,50)\n",
        "pl.legend()\n",
        "\n",
        "\n",
        "plt.show()"
      ],
      "execution_count": 0,
      "outputs": [
        {
          "output_type": "display_data",
          "data": {
            "image/png": "[encoded data removed]",
            "text/plain": [
              "<Figure size 1080x360 with 2 Axes>"
            ]
          },
          "metadata": {
            "tags": []
          }
        }
      ]
    },
    {
      "cell_type": "code",
      "metadata": {
        "id": "kiop-cQLsLhD",
        "colab_type": "code",
        "colab": {}
      },
      "source": [
        "#step1.1 with Deep network\n",
        "deep_step1=DeepResNet().cuda()\n",
        "train_loss5 = []\n",
        "test_accuracy5 = []\n",
        "for epoch in tqdm(range(NUM_EPOCH)):\n",
        "    train_loss5.append(fit(deep_step1, train_loader, adv=True, clean= clean_model2))\n",
        "    test_accuracy5.append(eval(deep_step1, test_loader, epsilon=torch.tensor([2/256]), adv=True, clean=clean_model2))"
      ],
      "execution_count": 0,
      "outputs": []
    },
    {
      "cell_type": "code",
      "metadata": {
        "id": "ah0iTSlxGAOO",
        "colab_type": "code",
        "colab": {}
      },
      "source": [
        "#baseline with Deep network\n",
        "deep_baseline=DeepResNet().cuda()\n",
        "train_loss6 = []\n",
        "test_accuracy6 = []\n",
        "for epoch in tqdm(range(NUM_EPOCH)):\n",
        "    train_loss6.append(fit(deep_baseline, train_loader, adv=False, clean= clean_model2))\n",
        "    test_accuracy6.append(eval(deep_baseline, test_loader, epsilon=torch.tensor([2/256]), adv=True, clean=clean_model2))"
      ],
      "execution_count": 0,
      "outputs": []
    },
    {
      "cell_type": "code",
      "metadata": {
        "id": "2Uv7QJ3eFxRv",
        "colab_type": "code",
        "outputId": "6eff7399-9c5f-4aab-d45f-26e89f5197ed",
        "colab": {
          "base_uri": "https://localhost:8080/",
          "height": 350
        }
      },
      "source": [
        "# Plotting the training loss and test accuracy when eps=2 \n",
        "fig = plt.figure(figsize=(15,5))\n",
        "pl =plt.subplot(121)\n",
        "pl.plot(train_loss5, 'r', linestyle='-', label='step1.1')\n",
        "pl.plot(train_loss6, 'b', linestyle='-', label='baseline')\n",
        "pl.set_title('train Loss')\n",
        "pl.set_xlabel('epoch')\n",
        "pl.set_ylabel(\"loss\")\n",
        "pl.set_ylim(0,5)\n",
        "pl.set_xlim(0,50)\n",
        "pl.legend()\n",
        "\n",
        "pl =plt.subplot(122)\n",
        "pl.plot(test_accuracy5, 'r', linestyle='-', label='step1.1')\n",
        "pl.plot(test_accuracy6, 'b', linestyle='-', label='baseline')\n",
        "pl.set_title('test accuracy')\n",
        "pl.set_xlabel('epoch')\n",
        "pl.set_ylabel(\"accuracy\")\n",
        "pl.set_ylim(0,100)\n",
        "pl.set_xlim(0,50)\n",
        "pl.legend()\n",
        "\n",
        "\n",
        "plt.show()"
      ],
      "execution_count": 0,
      "outputs": [
        {
          "output_type": "display_data",
          "data": {
            "image/png": "[encoded data removed]",
            "text/plain": [
              "<Figure size 1080x360 with 2 Axes>"
            ]
          },
          "metadata": {
            "tags": []
          }
        }
      ]
    },
    {
      "cell_type": "code",
      "metadata": {
        "id": "Y-rVdGZK7ic8",
        "colab_type": "code",
        "colab": {}
      },
      "source": [
        "adv_accuracy1=[]\n",
        "base_accuracy1=[]\n",
        "for e in eps:\n",
        "    adv_accuracy1.append(eval(deep_step1, test_loader, epsilon=e, adv=True, clean=clean_model2))\n",
        "    base_accuracy1.append(eval(deep_baseline, test_loader, epsilon=e, adv=True, clean=clean_model2))"
      ],
      "execution_count": 0,
      "outputs": []
    },
    {
      "cell_type": "code",
      "metadata": {
        "id": "Nhg5M3whE-SK",
        "colab_type": "code",
        "outputId": "5ab4642f-9bce-4f8f-fe8e-3764969a7b4f",
        "colab": {
          "base_uri": "https://localhost:8080/",
          "height": 109
        }
      },
      "source": [
        "result1={'step1.1': adv_accuracy1, 'baseline': base_accuracy1\n",
        "}\n",
        "result1=DataFrame(result1, index=index)\n",
        "result1.T"
      ],
      "execution_count": 0,
      "outputs": [
        {
          "output_type": "execute_result",
          "data": {
            "text/html": [
              "<div>\n",
              "<style scoped>\n",
              "    .dataframe tbody tr th:only-of-type {\n",
              "        vertical-align: middle;\n",
              "    }\n",
              "\n",
              "    .dataframe tbody tr th {\n",
              "        vertical-align: top;\n",
              "    }\n",
              "\n",
              "    .dataframe thead th {\n",
              "        text-align: right;\n",
              "    }\n",
              "</style>\n",
              "<table border=\"1\" class=\"dataframe\">\n",
              "  <thead>\n",
              "    <tr style=\"text-align: right;\">\n",
              "      <th></th>\n",
              "      <th>clean</th>\n",
              "      <th>2</th>\n",
              "      <th>4</th>\n",
              "      <th>8</th>\n",
              "      <th>16</th>\n",
              "    </tr>\n",
              "  </thead>\n",
              "  <tbody>\n",
              "    <tr>\n",
              "      <th>step1.1</th>\n",
              "      <td>74.54</td>\n",
              "      <td>74.02</td>\n",
              "      <td>73.08</td>\n",
              "      <td>71.51</td>\n",
              "      <td>67.14</td>\n",
              "    </tr>\n",
              "    <tr>\n",
              "      <th>baseline</th>\n",
              "      <td>77.93</td>\n",
              "      <td>74.66</td>\n",
              "      <td>70.44</td>\n",
              "      <td>57.08</td>\n",
              "      <td>33.89</td>\n",
              "    </tr>\n",
              "  </tbody>\n",
              "</table>\n",
              "</div>"
            ],
            "text/plain": [
              "          clean      2      4      8     16\n",
              "step1.1   74.54  74.02  73.08  71.51  67.14\n",
              "baseline  77.93  74.66  70.44  57.08  33.89"
            ]
          },
          "metadata": {
            "tags": []
          },
          "execution_count": 37
        }
      ]
    },
    {
      "cell_type": "code",
      "metadata": {
        "id": "D3-ML3GUS_iX",
        "colab_type": "code",
        "outputId": "61a9f5ab-3341-484c-f501-79b28b7db670",
        "colab": {
          "base_uri": "https://localhost:8080/",
          "height": 167
        }
      },
      "source": [
        "#this result corresponds to table1 of the paper\n",
        "index=['clean','2', '4', '8', '16']\n",
        "total_result = {'Baseline, (standard training)': base_accuracy, 'Adv.training': adv_accuracy,\n",
        "               'Deeper model, (standard training)': base_accuracy1, 'Deeper model, (Adv.training)': adv_accuracy1}\n",
        "result_result = DataFrame(total_result, index=index)\n",
        "result_result.T"
      ],
      "execution_count": 0,
      "outputs": [
        {
          "output_type": "execute_result",
          "data": {
            "text/html": [
              "<div>\n",
              "<style scoped>\n",
              "    .dataframe tbody tr th:only-of-type {\n",
              "        vertical-align: middle;\n",
              "    }\n",
              "\n",
              "    .dataframe tbody tr th {\n",
              "        vertical-align: top;\n",
              "    }\n",
              "\n",
              "    .dataframe thead th {\n",
              "        text-align: right;\n",
              "    }\n",
              "</style>\n",
              "<table border=\"1\" class=\"dataframe\">\n",
              "  <thead>\n",
              "    <tr style=\"text-align: right;\">\n",
              "      <th></th>\n",
              "      <th>clean</th>\n",
              "      <th>2</th>\n",
              "      <th>4</th>\n",
              "      <th>8</th>\n",
              "      <th>16</th>\n",
              "    </tr>\n",
              "  </thead>\n",
              "  <tbody>\n",
              "    <tr>\n",
              "      <th>Baseline, (standard training)</th>\n",
              "      <td>80.01</td>\n",
              "      <td>77.10</td>\n",
              "      <td>70.88</td>\n",
              "      <td>53.85</td>\n",
              "      <td>30.17</td>\n",
              "    </tr>\n",
              "    <tr>\n",
              "      <th>Adv.training</th>\n",
              "      <td>75.95</td>\n",
              "      <td>75.24</td>\n",
              "      <td>74.37</td>\n",
              "      <td>72.68</td>\n",
              "      <td>66.88</td>\n",
              "    </tr>\n",
              "    <tr>\n",
              "      <th>Deeper model, (standard training)</th>\n",
              "      <td>78.76</td>\n",
              "      <td>76.81</td>\n",
              "      <td>72.93</td>\n",
              "      <td>63.15</td>\n",
              "      <td>42.62</td>\n",
              "    </tr>\n",
              "    <tr>\n",
              "      <th>Deeper model, (Adv.training)</th>\n",
              "      <td>74.73</td>\n",
              "      <td>74.59</td>\n",
              "      <td>73.99</td>\n",
              "      <td>72.25</td>\n",
              "      <td>68.16</td>\n",
              "    </tr>\n",
              "  </tbody>\n",
              "</table>\n",
              "</div>"
            ],
            "text/plain": [
              "                                   clean      2      4      8     16\n",
              "Baseline, (standard training)      80.01  77.10  70.88  53.85  30.17\n",
              "Adv.training                       75.95  75.24  74.37  72.68  66.88\n",
              "Deeper model, (standard training)  78.76  76.81  72.93  63.15  42.62\n",
              "Deeper model, (Adv.training)       74.73  74.59  73.99  72.25  68.16"
            ]
          },
          "metadata": {
            "tags": []
          },
          "execution_count": 26
        }
      ]
    },
    {
      "cell_type": "markdown",
      "metadata": {
        "id": "1oWHF2IsFnUh",
        "colab_type": "text"
      },
      "source": [
        "# iterative least likely class method"
      ]
    },
    {
      "cell_type": "code",
      "metadata": {
        "id": "p02rPTJbFlMi",
        "colab_type": "code",
        "outputId": "86d28ce3-8e68-4fd5-c3f2-a3f38d08fd2e",
        "colab": {
          "base_uri": "https://localhost:8080/",
          "height": 35
        }
      },
      "source": [
        "#iterative least likely class method\n",
        "adv=SimpleResNet().cuda()\n",
        "train_loss7 = []\n",
        "test_accuracy7 = []\n",
        "for epoch in tqdm(range(NUM_EPOCH)):\n",
        "    train_loss7.append(fit(adv, train_loader, adv=True, clean= clean_model, iter=True))\n",
        "    test_accuracy7.append(eval(adv, test_loader, epsilon=2, adv=True, clean=clean_model, iter=True))"
      ],
      "execution_count": 0,
      "outputs": [
        {
          "output_type": "stream",
          "text": [
            "100%|██████████| 50/50 [48:02<00:00, 58.80s/it]\n"
          ],
          "name": "stderr"
        }
      ]
    },
    {
      "cell_type": "code",
      "metadata": {
        "id": "Vp4ehlypifQL",
        "colab_type": "code",
        "outputId": "5fae0da1-ae5e-47ac-9c14-f43fab014545",
        "colab": {
          "base_uri": "https://localhost:8080/",
          "height": 35
        }
      },
      "source": [
        "#baseline\n",
        "baseline1=SimpleResNet().cuda()\n",
        "train_loss8 = []\n",
        "test_accuracy8 = []\n",
        "for epoch in tqdm(range(NUM_EPOCH)):\n",
        "    train_loss8.append(fit(baseline1, train_loader, adv=False))\n",
        "    test_accuracy8.append(eval(baseline1, test_loader, epsilon=2, adv=True, clean=clean_model, iter=True))"
      ],
      "execution_count": 0,
      "outputs": [
        {
          "output_type": "stream",
          "text": [
            "100%|██████████| 50/50 [14:21<00:00, 17.23s/it]\n"
          ],
          "name": "stderr"
        }
      ]
    },
    {
      "cell_type": "code",
      "metadata": {
        "id": "QCWCzeM_l8rt",
        "colab_type": "code",
        "outputId": "818c1b5e-5f59-4306-9148-60780b60a5d1",
        "colab": {
          "base_uri": "https://localhost:8080/",
          "height": 350
        }
      },
      "source": [
        "# Plotting the training loss and test accuracy\n",
        "fig = plt.figure(figsize=(15,5))\n",
        "pl =plt.subplot(121)\n",
        "pl.plot(train_loss7, 'r', linestyle='-', label='iterative step1.1')\n",
        "pl.plot(train_loss8, 'b', linestyle='-', label='iter baseline')\n",
        "pl.set_title('train Loss')\n",
        "pl.set_xlabel('epoch')\n",
        "pl.set_ylabel(\"loss\")\n",
        "pl.set_ylim(0,5)\n",
        "pl.set_xlim(0,50)\n",
        "pl.legend()\n",
        "\n",
        "pl =plt.subplot(122)\n",
        "pl.plot(test_accuracy7, 'r', linestyle='-', label='iter step1.1')\n",
        "pl.plot(test_accuracy8, 'b', linestyle='-', label='iter baseline')\n",
        "pl.set_title('test accuracy')\n",
        "pl.set_xlabel('epoch')\n",
        "pl.set_ylabel(\"accuracy\")\n",
        "pl.set_ylim(0,100)\n",
        "pl.set_xlim(0,50)\n",
        "pl.legend()\n",
        "\n",
        "\n",
        "plt.show()"
      ],
      "execution_count": 0,
      "outputs": [
        {
          "output_type": "display_data",
          "data": {
            "image/png": "[encoded data removed]",
            "text/plain": [
              "<Figure size 1080x360 with 2 Axes>"
            ]
          },
          "metadata": {
            "tags": []
          }
        }
      ]
    },
    {
      "cell_type": "code",
      "metadata": {
        "id": "jrDS1TrcmDG9",
        "colab_type": "code",
        "colab": {}
      },
      "source": [
        "adv_accuracy3=[]\n",
        "base_accuracy3=[]\n",
        "for e in eps2:\n",
        "    adv_accuracy3.append(eval(adv, test_loader, epsilon=e, adv=True, clean=clean_model, iter=True))\n",
        "    base_accuracy3.append(eval(baseline1, test_loader, epsilon=e, adv=True, clean=clean_model, iter=True))"
      ],
      "execution_count": 0,
      "outputs": []
    },
    {
      "cell_type": "code",
      "metadata": {
        "id": "XwaxB8WlnlTA",
        "colab_type": "code",
        "outputId": "2914ccda-876f-4355-d58c-bf465d929dfd",
        "colab": {
          "base_uri": "https://localhost:8080/",
          "height": 109
        }
      },
      "source": [
        "index=['clean','2', '4', '8', '16']\n",
        "result3={'iter_one_step': adv_accuracy3, 'iter_baseline': base_accuracy3\n",
        "}\n",
        "result3=DataFrame(result3, index=index)\n",
        "result3.T"
      ],
      "execution_count": 0,
      "outputs": [
        {
          "output_type": "execute_result",
          "data": {
            "text/html": [
              "<div>\n",
              "<style scoped>\n",
              "    .dataframe tbody tr th:only-of-type {\n",
              "        vertical-align: middle;\n",
              "    }\n",
              "\n",
              "    .dataframe tbody tr th {\n",
              "        vertical-align: top;\n",
              "    }\n",
              "\n",
              "    .dataframe thead th {\n",
              "        text-align: right;\n",
              "    }\n",
              "</style>\n",
              "<table border=\"1\" class=\"dataframe\">\n",
              "  <thead>\n",
              "    <tr style=\"text-align: right;\">\n",
              "      <th></th>\n",
              "      <th>clean</th>\n",
              "      <th>2</th>\n",
              "      <th>4</th>\n",
              "      <th>8</th>\n",
              "      <th>16</th>\n",
              "    </tr>\n",
              "  </thead>\n",
              "  <tbody>\n",
              "    <tr>\n",
              "      <th>iter_one_step</th>\n",
              "      <td>75.13</td>\n",
              "      <td>74.39</td>\n",
              "      <td>73.45</td>\n",
              "      <td>69.61</td>\n",
              "      <td>56.00</td>\n",
              "    </tr>\n",
              "    <tr>\n",
              "      <th>iter_baseline</th>\n",
              "      <td>80.25</td>\n",
              "      <td>74.44</td>\n",
              "      <td>53.10</td>\n",
              "      <td>20.97</td>\n",
              "      <td>9.05</td>\n",
              "    </tr>\n",
              "  </tbody>\n",
              "</table>\n",
              "</div>"
            ],
            "text/plain": [
              "               clean      2      4      8     16\n",
              "iter_one_step  75.13  74.39  73.45  69.61  56.00\n",
              "iter_baseline  80.25  74.44  53.10  20.97   9.05"
            ]
          },
          "metadata": {
            "tags": []
          },
          "execution_count": 43
        }
      ]
    },
    {
      "cell_type": "code",
      "metadata": {
        "id": "vWF5cmW2LIFA",
        "colab_type": "code",
        "outputId": "e98b5ae2-ce07-4cdd-d583-771389f9c3ee",
        "colab": {
          "base_uri": "https://localhost:8080/",
          "height": 35
        }
      },
      "source": [
        "#adv trianing with basic iterative method\n",
        "adv1=SimpleResNet().cuda()\n",
        "train_loss9 = []\n",
        "test_accuracy9 = []\n",
        "for epoch in tqdm(range(NUM_EPOCH)):\n",
        "    train_loss9.append(fit(adv1, train_loader, adv=True, clean= clean_model, iter=True, ll=False))\n",
        "    test_accuracy9.append(eval(adv1, test_loader, epsilon=2, adv=True, clean=clean_model, iter=True, ll=False))"
      ],
      "execution_count": 0,
      "outputs": [
        {
          "output_type": "stream",
          "text": [
            "100%|██████████| 50/50 [48:17<00:00, 57.03s/it]\n"
          ],
          "name": "stderr"
        }
      ]
    },
    {
      "cell_type": "code",
      "metadata": {
        "id": "HebuQB7GLgTN",
        "colab_type": "code",
        "outputId": "1f9a5c59-8253-428b-88fb-e21e0a37d322",
        "colab": {
          "base_uri": "https://localhost:8080/",
          "height": 35
        }
      },
      "source": [
        "#baseline with basic iterative method\n",
        "baseline2=SimpleResNet().cuda()\n",
        "train_loss10 = []\n",
        "test_accuracy10 = []\n",
        "for epoch in tqdm(range(NUM_EPOCH)):\n",
        "    train_loss10.append(fit(baseline2, train_loader, adv=False))\n",
        "    test_accuracy10.append(eval(baseline2, test_loader, epsilon=2, adv=True, clean=clean_model, iter=True, ll=False))"
      ],
      "execution_count": 0,
      "outputs": [
        {
          "output_type": "stream",
          "text": [
            "100%|██████████| 50/50 [14:20<00:00, 17.25s/it]\n"
          ],
          "name": "stderr"
        }
      ]
    },
    {
      "cell_type": "code",
      "metadata": {
        "id": "U91cXRmGL-85",
        "colab_type": "code",
        "outputId": "8934db8d-e920-49f1-82b7-1e199b1e37ce",
        "colab": {
          "base_uri": "https://localhost:8080/",
          "height": 350
        }
      },
      "source": [
        "# Plotting the training loss and test accuracy\n",
        "fig = plt.figure(figsize=(15,5))\n",
        "pl =plt.subplot(121)\n",
        "pl.plot(train_loss9, 'r', linestyle='-', label='basic iterative')\n",
        "pl.plot(train_loss10, 'b', linestyle='-', label='iter baseline')\n",
        "pl.set_title('train Loss')\n",
        "pl.set_xlabel('epoch')\n",
        "pl.set_ylabel(\"loss\")\n",
        "pl.set_ylim(0,5)\n",
        "pl.set_xlim(0,30)\n",
        "pl.legend()\n",
        "\n",
        "pl =plt.subplot(122)\n",
        "pl.plot(test_accuracy9, 'r', linestyle='-', label='basic iterative')\n",
        "pl.plot(test_accuracy10, 'b', linestyle='-', label='iter baseline')\n",
        "pl.set_title('test accuracy')\n",
        "pl.set_xlabel('epoch')\n",
        "pl.set_ylabel(\"accuracy\")\n",
        "pl.set_ylim(0,100)\n",
        "pl.set_xlim(0,30)\n",
        "pl.legend()\n",
        "\n",
        "\n",
        "plt.show()"
      ],
      "execution_count": 0,
      "outputs": [
        {
          "output_type": "display_data",
          "data": {
            "image/png": "[encoded data removed]",
            "text/plain": [
              "<Figure size 1080x360 with 2 Axes>"
            ]
          },
          "metadata": {
            "tags": []
          }
        }
      ]
    },
    {
      "cell_type": "code",
      "metadata": {
        "id": "lfJSrjGpTYiE",
        "colab_type": "code",
        "colab": {}
      },
      "source": [
        "adv_accuracy4=[]\n",
        "base_accuracy4=[]\n",
        "for e in eps2:\n",
        "    adv_accuracy4.append(eval(adv1, test_loader, epsilon=e, adv=True, clean=clean_model, iter=True, ll=False))\n",
        "    base_accuracy4.append(eval(baseline2, test_loader, epsilon=e, adv=True, clean=clean_model, iter=True, ll=False))"
      ],
      "execution_count": 0,
      "outputs": []
    },
    {
      "cell_type": "code",
      "metadata": {
        "id": "3tTpvdnETcfc",
        "colab_type": "code",
        "outputId": "35bd38d2-3be1-46c6-817d-b3572801723c",
        "colab": {
          "base_uri": "https://localhost:8080/",
          "height": 109
        }
      },
      "source": [
        "index=['clean','2', '4', '8', '16']\n",
        "result4={'iter_one_step': adv_accuracy4, 'iter_baseline': base_accuracy4\n",
        "}\n",
        "result4=DataFrame(result4, index=index)\n",
        "result4.T"
      ],
      "execution_count": 0,
      "outputs": [
        {
          "output_type": "execute_result",
          "data": {
            "text/html": [
              "<div>\n",
              "<style scoped>\n",
              "    .dataframe tbody tr th:only-of-type {\n",
              "        vertical-align: middle;\n",
              "    }\n",
              "\n",
              "    .dataframe tbody tr th {\n",
              "        vertical-align: top;\n",
              "    }\n",
              "\n",
              "    .dataframe thead th {\n",
              "        text-align: right;\n",
              "    }\n",
              "</style>\n",
              "<table border=\"1\" class=\"dataframe\">\n",
              "  <thead>\n",
              "    <tr style=\"text-align: right;\">\n",
              "      <th></th>\n",
              "      <th>clean</th>\n",
              "      <th>2</th>\n",
              "      <th>4</th>\n",
              "      <th>8</th>\n",
              "      <th>16</th>\n",
              "    </tr>\n",
              "  </thead>\n",
              "  <tbody>\n",
              "    <tr>\n",
              "      <th>iter_one_step</th>\n",
              "      <td>81.19</td>\n",
              "      <td>83.15</td>\n",
              "      <td>82.21</td>\n",
              "      <td>79.34</td>\n",
              "      <td>69.14</td>\n",
              "    </tr>\n",
              "    <tr>\n",
              "      <th>iter_baseline</th>\n",
              "      <td>79.48</td>\n",
              "      <td>80.99</td>\n",
              "      <td>78.68</td>\n",
              "      <td>73.48</td>\n",
              "      <td>59.12</td>\n",
              "    </tr>\n",
              "  </tbody>\n",
              "</table>\n",
              "</div>"
            ],
            "text/plain": [
              "               clean      2      4      8     16\n",
              "iter_one_step  81.19  83.15  82.21  79.34  69.14\n",
              "iter_baseline  79.48  80.99  78.68  73.48  59.12"
            ]
          },
          "metadata": {
            "tags": []
          },
          "execution_count": 48
        }
      ]
    },
    {
      "cell_type": "code",
      "metadata": {
        "id": "rFtWJ4MjTjph",
        "colab_type": "code",
        "outputId": "799956aa-f4b3-4e40-f0e9-463834b75c80",
        "colab": {
          "base_uri": "https://localhost:8080/",
          "height": 170
        }
      },
      "source": [
        "#this result corresponds to table2 of the paper\n",
        "result_total2={'iter_l.l, Adv.training': adv_accuracy3, 'iter_l.l, Baseline': base_accuracy3,\n",
        "         'iter_basic, Adv.training': adv_accuracy4, 'iter_basic, Baseline': base_accuracy4,}\n",
        "result_total2=DataFrame(result_total2, index=index)\n",
        "result_total2.T"
      ],
      "execution_count": 0,
      "outputs": [
        {
          "output_type": "execute_result",
          "data": {
            "text/html": [
              "<div>\n",
              "<style scoped>\n",
              "    .dataframe tbody tr th:only-of-type {\n",
              "        vertical-align: middle;\n",
              "    }\n",
              "\n",
              "    .dataframe tbody tr th {\n",
              "        vertical-align: top;\n",
              "    }\n",
              "\n",
              "    .dataframe thead th {\n",
              "        text-align: right;\n",
              "    }\n",
              "</style>\n",
              "<table border=\"1\" class=\"dataframe\">\n",
              "  <thead>\n",
              "    <tr style=\"text-align: right;\">\n",
              "      <th></th>\n",
              "      <th>clean</th>\n",
              "      <th>2</th>\n",
              "      <th>4</th>\n",
              "      <th>8</th>\n",
              "      <th>16</th>\n",
              "    </tr>\n",
              "  </thead>\n",
              "  <tbody>\n",
              "    <tr>\n",
              "      <th>iter_l.l, Adv.training</th>\n",
              "      <td>75.13</td>\n",
              "      <td>74.39</td>\n",
              "      <td>73.45</td>\n",
              "      <td>69.61</td>\n",
              "      <td>56.00</td>\n",
              "    </tr>\n",
              "    <tr>\n",
              "      <th>iter_l.l, Baseline</th>\n",
              "      <td>80.25</td>\n",
              "      <td>74.44</td>\n",
              "      <td>53.10</td>\n",
              "      <td>20.97</td>\n",
              "      <td>9.05</td>\n",
              "    </tr>\n",
              "    <tr>\n",
              "      <th>iter_basic, Adv.training</th>\n",
              "      <td>81.19</td>\n",
              "      <td>83.15</td>\n",
              "      <td>82.21</td>\n",
              "      <td>79.34</td>\n",
              "      <td>69.14</td>\n",
              "    </tr>\n",
              "    <tr>\n",
              "      <th>iter_basic, Baseline</th>\n",
              "      <td>79.48</td>\n",
              "      <td>80.99</td>\n",
              "      <td>78.68</td>\n",
              "      <td>73.48</td>\n",
              "      <td>59.12</td>\n",
              "    </tr>\n",
              "  </tbody>\n",
              "</table>\n",
              "</div>"
            ],
            "text/plain": [
              "                          clean      2      4      8     16\n",
              "iter_l.l, Adv.training    75.13  74.39  73.45  69.61  56.00\n",
              "iter_l.l, Baseline        80.25  74.44  53.10  20.97   9.05\n",
              "iter_basic, Adv.training  81.19  83.15  82.21  79.34  69.14\n",
              "iter_basic, Baseline      79.48  80.99  78.68  73.48  59.12"
            ]
          },
          "metadata": {
            "tags": []
          },
          "execution_count": 49
        }
      ]
    },
    {
      "cell_type": "markdown",
      "metadata": {
        "id": "aCEmlnlJvybK",
        "colab_type": "text"
      },
      "source": [
        "# label leaking"
      ]
    },
    {
      "cell_type": "code",
      "metadata": {
        "id": "_A5EvD7bUD1x",
        "colab_type": "code",
        "colab": {}
      },
      "source": [
        "class narrowResNet(nn.Module): # when ρ=0.5, reduce the number of channels by half\n",
        "    def __init__(self):\n",
        "        super(narrowResNet, self).__init__()\n",
        "        \n",
        "        self.conv1_1 = nn.Conv2d(3, 16, kernel_size=3, stride=1, padding=1)\n",
        "        self.act1_1 = nn.ReLU()\n",
        "        self.conv1_2 = nn.Conv2d(16, 16, kernel_size=3, stride=1, padding=1)\n",
        "        self.act1_2 = nn.ReLU()\n",
        "        self.pool1 = nn.MaxPool2d(2)\n",
        "        \n",
        "        self.conv2_1 = nn.Conv2d(16, 32, kernel_size=3, stride=1, padding=1)\n",
        "        self.act2_1 = nn.ReLU()\n",
        "        self.conv2_2 = nn.Conv2d(32, 32, kernel_size=3, stride=1, padding=1)\n",
        "        self.act2_2 = nn.ReLU()\n",
        "        self.conv2_3 = nn.Conv2d(32, 32, kernel_size=3, stride=1, padding=1)\n",
        "        \n",
        "        self.shortcut1 = nn.Sequential(self.conv2_2, self.act2_2, self.conv2_3)\n",
        "        \n",
        "        self.act2_3 = nn.ReLU()\n",
        "        self.pool2 = nn.MaxPool2d(2)\n",
        "        \n",
        "        self.conv3_1 = nn.Conv2d(32, 64, kernel_size=3, stride=1, padding=1)\n",
        "        self.act3_1 = nn.ReLU()\n",
        "        self.conv3_2 = nn.Conv2d(64, 64, kernel_size=3, stride=1, padding=1)\n",
        "        self.act3_2 = nn.ReLU()\n",
        "        self.conv3_3 = nn.Conv2d(64, 64, kernel_size=3, stride=1, padding=1)\n",
        "        \n",
        "        self.shortcut2 = nn.Sequential(self.conv3_2, self.act3_2, self.conv3_3)\n",
        "        \n",
        "        self.act3_3 = nn.ReLU()\n",
        "        self.pool3 = nn.AvgPool2d(8)\n",
        "        \n",
        "        # Output layer\n",
        "        self.out = nn.Linear(64*1*1, 10)\n",
        "    \n",
        "    def forward(self, x):\n",
        "        x=self.act1_1(self.conv1_1(x))\n",
        "        x=self.act1_2(self.conv1_2(x))\n",
        "        x=self.pool1(x)\n",
        "        \n",
        "        x=self.act2_1(self.conv2_1(x))\n",
        "        x=self.act2_3(x+self.shortcut1(x))\n",
        "        x=self.pool2(x)\n",
        "        \n",
        "        x=self.act3_1(self.conv3_1(x))\n",
        "        x=self.act3_3(x+self.shortcut2(x))\n",
        "        x=self.pool3(x)\n",
        "        x = x.view(-1, 64*1*1)\n",
        "\n",
        "        out = self.out(x)\n",
        "        return out"
      ],
      "execution_count": 0,
      "outputs": []
    },
    {
      "cell_type": "code",
      "metadata": {
        "id": "eYeESDYC1DZT",
        "colab_type": "code",
        "colab": {}
      },
      "source": [
        "class fatResNet(nn.Module):  # when ρ=2, double the number of channels \n",
        "    def __init__(self):\n",
        "        super(fatResNet, self).__init__()\n",
        "        \n",
        "        self.conv1_1 = nn.Conv2d(3, 64, kernel_size=3, stride=1, padding=1)\n",
        "        self.act1_1 = nn.ReLU()\n",
        "        self.conv1_2 = nn.Conv2d(64, 64, kernel_size=3, stride=1, padding=1)\n",
        "        self.act1_2 = nn.ReLU()\n",
        "        self.pool1 = nn.MaxPool2d(2)\n",
        "        \n",
        "        self.conv2_1 = nn.Conv2d(64, 128, kernel_size=3, stride=1, padding=1)\n",
        "        self.act2_1 = nn.ReLU()\n",
        "        self.conv2_2 = nn.Conv2d(128, 128, kernel_size=3, stride=1, padding=1)\n",
        "        self.act2_2 = nn.ReLU()\n",
        "        self.conv2_3 = nn.Conv2d(128, 128, kernel_size=3, stride=1, padding=1)\n",
        "        \n",
        "        self.shortcut1 = nn.Sequential(self.conv2_2, self.act2_2, self.conv2_3)\n",
        "        \n",
        "        self.act2_3 = nn.ReLU()\n",
        "        self.pool2 = nn.MaxPool2d(2)\n",
        "        \n",
        "        self.conv3_1 = nn.Conv2d(128, 256, kernel_size=3, stride=1, padding=1)\n",
        "        self.act3_1 = nn.ReLU()\n",
        "        self.conv3_2 = nn.Conv2d(256, 256, kernel_size=3, stride=1, padding=1)\n",
        "        self.act3_2 = nn.ReLU()\n",
        "        self.conv3_3 = nn.Conv2d(256, 256, kernel_size=3, stride=1, padding=1)\n",
        "        \n",
        "        self.shortcut2 = nn.Sequential(self.conv3_2, self.act3_2, self.conv3_3)\n",
        "        \n",
        "        self.act3_3 = nn.ReLU()\n",
        "        self.pool3 = nn.AvgPool2d(8)\n",
        "        \n",
        "        # Output layer\n",
        "        self.out = nn.Linear(256*1*1, 10)\n",
        "    \n",
        "    def forward(self, x):\n",
        "        x=self.act1_1(self.conv1_1(x))\n",
        "        x=self.act1_2(self.conv1_2(x))\n",
        "        x=self.pool1(x)\n",
        "        \n",
        "        x=self.act2_1(self.conv2_1(x))\n",
        "        x=self.act2_3(x+self.shortcut1(x))\n",
        "        x=self.pool2(x)\n",
        "        \n",
        "        x=self.act3_1(self.conv3_1(x))\n",
        "        x=self.act3_3(x+self.shortcut2(x))\n",
        "        x=self.pool3(x)\n",
        "        x = x.view(-1, 256*1*1)\n",
        "\n",
        "        out = self.out(x)\n",
        "        return out"
      ],
      "execution_count": 0,
      "outputs": []
    },
    {
      "cell_type": "code",
      "metadata": {
        "id": "eRg0rcyb_mHV",
        "colab_type": "code",
        "colab": {}
      },
      "source": [
        "eps=[torch.tensor([2/256]), torch.tensor([4/256]), torch.tensor([8/256]), torch.tensor([16/256])]\n",
        "eps2=[2, 4, 8, 16]"
      ],
      "execution_count": 0,
      "outputs": []
    },
    {
      "cell_type": "code",
      "metadata": {
        "id": "uTx3bkln2R_t",
        "colab_type": "code",
        "colab": {}
      },
      "source": [
        "narrow_adv_ratio0=[]\n",
        "narrow_base_ratio0=[]\n",
        "for e in eps:\n",
        "    tmp1 = eval(baseline, test_loader, epsilon=e, adv=True, clean=clean_model)\n",
        "    tmp2 = eval(baseline, test_loader, epsilon=e, adv=False, clean=clean_model)\n",
        "    narrow_base_ratio0.append(tmp1/tmp2)\n",
        "    \n",
        "    tmp1 = eval(step1, test_loader, epsilon=e, adv=True, clean=clean_model)\n",
        "    tmp2 = eval(step1, test_loader, epsilon=e, adv=False, clean=clean_model)\n",
        "    narrow_adv_ratio0.append(tmp1/tmp2)"
      ],
      "execution_count": 0,
      "outputs": []
    },
    {
      "cell_type": "code",
      "metadata": {
        "id": "kOvseToT4ZVH",
        "colab_type": "code",
        "outputId": "0850144c-1b13-46c8-fe2e-ed8f0f2bc0ab",
        "colab": {
          "base_uri": "https://localhost:8080/",
          "height": 35
        }
      },
      "source": [
        "# narrow - clean\n",
        "narrowClean=narrowResNet().cuda()\n",
        "test_acc =  []\n",
        "for epoch in tqdm(range(NUM_EPOCH)):\n",
        "    fit(narrowClean, train_loader, adv=False)\n",
        "    test_acc.append(eval(narrowClean, test_loader, epsilon=torch.tensor([2/256]), adv=False))"
      ],
      "execution_count": 0,
      "outputs": [
        {
          "output_type": "stream",
          "text": [
            "100%|██████████| 50/50 [07:57<00:00,  9.46s/it]\n"
          ],
          "name": "stderr"
        }
      ]
    },
    {
      "cell_type": "code",
      "metadata": {
        "id": "VzVzq_3U4whl",
        "colab_type": "code",
        "outputId": "94f16584-99d6-49b9-eacd-fea5bde64d9b",
        "colab": {
          "base_uri": "https://localhost:8080/",
          "height": 35
        }
      },
      "source": [
        "# baseline - narrow - step l.l\n",
        "narrow_base = narrowResNet().cuda()\n",
        "train_loss11 = []\n",
        "test_accuracy11 = []\n",
        "for epoch in tqdm(range(NUM_EPOCH)):\n",
        "    train_loss11.append(fit(narrow_base, train_loader, adv=False))\n",
        "    test_accuracy11.append(eval(narrow_base, test_loader, epsilon=torch.tensor([2/256]), adv=True, clean=narrowClean))"
      ],
      "execution_count": 0,
      "outputs": [
        {
          "output_type": "stream",
          "text": [
            "100%|██████████| 50/50 [08:58<00:00, 10.73s/it]\n"
          ],
          "name": "stderr"
        }
      ]
    },
    {
      "cell_type": "code",
      "metadata": {
        "id": "OyP6vW3Y46Kn",
        "colab_type": "code",
        "outputId": "781c6d30-49aa-40cd-86d1-761d11caec8c",
        "colab": {
          "base_uri": "https://localhost:8080/",
          "height": 35
        }
      },
      "source": [
        "# adv.training - narrow - step l.l\n",
        "narrow_adv= narrowResNet().cuda()\n",
        "train_loss12 = []\n",
        "test_accuracy12 = []\n",
        "for epoch in tqdm(range(NUM_EPOCH)):\n",
        "    train_loss12.append(fit(narrow_adv, train_loader, adv=True, clean= narrowClean))\n",
        "    test_accuracy12.append(eval(narrow_adv, test_loader, epsilon=torch.tensor([2/256]), adv=True, clean=narrowClean))"
      ],
      "execution_count": 0,
      "outputs": [
        {
          "output_type": "stream",
          "text": [
            "100%|██████████| 50/50 [12:10<00:00, 14.56s/it]\n"
          ],
          "name": "stderr"
        }
      ]
    },
    {
      "cell_type": "code",
      "metadata": {
        "id": "ZPhOuMye5anq",
        "colab_type": "code",
        "colab": {}
      },
      "source": [
        "narrow_adv_ratio1=[]\n",
        "narrow_base_ratio1=[]\n",
        "for e in eps:\n",
        "    tmp1 = eval(narrow_base, test_loader, epsilon=e, adv=True, clean=narrowClean)\n",
        "    tmp2 = eval(narrow_base, test_loader, epsilon=e, adv=False, clean=narrowClean)\n",
        "    narrow_base_ratio1.append(tmp1/tmp2)\n",
        "    \n",
        "    tmp1 = eval(narrow_adv, test_loader, epsilon=e, adv=True, clean=narrowClean)\n",
        "    tmp2 = eval(narrow_adv, test_loader, epsilon=e, adv=False, clean=narrowClean)\n",
        "    narrow_adv_ratio1.append(tmp1/tmp2)"
      ],
      "execution_count": 0,
      "outputs": []
    },
    {
      "cell_type": "code",
      "metadata": {
        "id": "yeQ0WiNa5koD",
        "colab_type": "code",
        "outputId": "26154a0c-6210-4aab-d07f-a6623a88fdf0",
        "colab": {
          "base_uri": "https://localhost:8080/",
          "height": 35
        }
      },
      "source": [
        "# fat - clean\n",
        "fatClean= fatResNet().cuda()\n",
        "test_acc =  []\n",
        "for epoch in tqdm(range(NUM_EPOCH)):\n",
        "    fit(fatClean, train_loader, adv=False)\n",
        "    test_acc.append(eval(fatClean, test_loader, epsilon=torch.tensor([2/256]), adv=False))"
      ],
      "execution_count": 0,
      "outputs": [
        {
          "output_type": "stream",
          "text": [
            "100%|██████████| 50/50 [22:03<00:00, 26.44s/it]\n"
          ],
          "name": "stderr"
        }
      ]
    },
    {
      "cell_type": "code",
      "metadata": {
        "id": "LMzKnTyF5rtj",
        "colab_type": "code",
        "outputId": "4dc2fcb3-b49d-4445-b8e9-c42caa9c8408",
        "colab": {
          "base_uri": "https://localhost:8080/",
          "height": 35
        }
      },
      "source": [
        "# baseline - fat - step l.l\n",
        "fat_base= fatResNet().cuda()\n",
        "train_loss13 = []\n",
        "test_accuracy13 = []\n",
        "for epoch in tqdm(range(NUM_EPOCH)):\n",
        "    train_loss13.append(fit(fat_base, train_loader, adv=False))\n",
        "    test_accuracy13.append(eval(fat_base, test_loader, epsilon=torch.tensor([2/256]), adv=True, clean=fatClean))"
      ],
      "execution_count": 0,
      "outputs": [
        {
          "output_type": "stream",
          "text": [
            "100%|██████████| 50/50 [26:59<00:00, 32.42s/it]\n"
          ],
          "name": "stderr"
        }
      ]
    },
    {
      "cell_type": "code",
      "metadata": {
        "id": "tAQh4v_j53M-",
        "colab_type": "code",
        "outputId": "eeb4fe7d-0a7f-4635-99bf-1653fd2a56aa",
        "colab": {
          "base_uri": "https://localhost:8080/",
          "height": 35
        }
      },
      "source": [
        "# adv.training - fat - step l.l\n",
        "fat_adv= fatResNet().cuda()\n",
        "train_loss14 = []\n",
        "test_accuracy14 = []\n",
        "for epoch in tqdm(range(NUM_EPOCH)):\n",
        "    train_loss14.append(fit(fat_adv, train_loader, adv=True, clean= fatClean))\n",
        "    test_accuracy14.append(eval(fat_adv, test_loader, epsilon=torch.tensor([2/256]), adv=True, clean=fatClean))"
      ],
      "execution_count": 0,
      "outputs": [
        {
          "output_type": "stream",
          "text": [
            "100%|██████████| 50/50 [42:20<00:00, 50.83s/it]\n"
          ],
          "name": "stderr"
        }
      ]
    },
    {
      "cell_type": "code",
      "metadata": {
        "id": "7jVg37J06Aj9",
        "colab_type": "code",
        "colab": {}
      },
      "source": [
        "narrow_adv_ratio2=[]\n",
        "narrow_base_ratio2=[]\n",
        "for e in eps:\n",
        "    tmp1 = eval(fat_base, test_loader, epsilon=e, adv=True, clean=fatClean)\n",
        "    tmp2 = eval(fat_base, test_loader, epsilon=e, adv=False, clean=fatClean)\n",
        "    narrow_base_ratio2.append(tmp1/tmp2)\n",
        "    \n",
        "    tmp1 = eval(fat_adv, test_loader, epsilon=e, adv=True, clean=fatClean)\n",
        "    tmp2 = eval(fat_adv, test_loader, epsilon=e, adv=False, clean=fatClean)\n",
        "    narrow_adv_ratio2.append(tmp1/tmp2)"
      ],
      "execution_count": 0,
      "outputs": []
    },
    {
      "cell_type": "code",
      "metadata": {
        "id": "iJqcoAAS6LeU",
        "colab_type": "code",
        "outputId": "28441064-d5a1-41c4-d95c-aefec544be5d",
        "colab": {
          "base_uri": "https://localhost:8080/",
          "height": 338
        }
      },
      "source": [
        "#copare no adversarial training, “step l.l.” adv. examples and  With adversarial training, “step l.l.” adv. examples\n",
        "ratio1 = np.column_stack([narrow_base_ratio0 ,narrow_base_ratio1,narrow_base_ratio2])\n",
        "ratio2 = np.column_stack([narrow_adv_ratio0 ,narrow_adv_ratio1,narrow_adv_ratio2])\n",
        "\n",
        "# Plotting the training loss and test accuracy\n",
        "fig = plt.figure(figsize=(15,5))\n",
        "pl =plt.subplot(121)\n",
        "\n",
        "pl.plot(np.array([0.5,1.0,2.0]), ratio1[0,],c='r',marker='o', label = 'epsilon=2')\n",
        "pl.plot(np.array([0.5,1.0,2.0]), ratio1[1,],c='g',marker='x', label = 'epsilon=4')\n",
        "pl.plot(np.array([0.5,1.0,2.0]), ratio1[2,],c='b',marker='v', label = 'epsilon=8')\n",
        "pl.plot(np.array([0.5,1.0,2.0]), ratio1[3,],c='black',marker='^', label = 'epsilon=16')\n",
        "\n",
        "# pl.set_title('train Loss')\n",
        "pl.set_xlabel('scale factor p for number of filters')\n",
        "pl.set_ylabel(\"ratio of adversarial to clean accuracy\")\n",
        "pl.set_ylim(0,1)\n",
        "# pl.set_xlim(0,15)\n",
        "pl.legend()\n",
        "\n",
        "pl =plt.subplot(122)\n",
        "pl.plot(np.array([0.5,1.0,2.0]), ratio2[0,],c='r',marker='o', label = 'epsilon=2')\n",
        "pl.plot(np.array([0.5,1.0,2.0]), ratio2[1,],c='g',marker='x', label = 'epsilon=4')\n",
        "pl.plot(np.array([0.5,1.0,2.0]), ratio2[2,],c='b',marker='v', label = 'epsilon=8')\n",
        "pl.plot(np.array([0.5,1.0,2.0]), ratio2[3,],c='black',marker='^', label = 'epsilon=16')\n",
        "\n",
        "pl.set_xlabel('scale factor p for number of filters')\n",
        "pl.set_ylabel(\"ratio of adversarial to clean accuracy\")\n",
        "pl.set_ylim(0.8,1)\n",
        "\n",
        "# pl.set_title('test accuracy')\n",
        "# pl.set_xlabel('epoch')\n",
        "# pl.set_ylabel(\"accuracy\")\n",
        "# pl.set_ylim(0,100)\n",
        "# pl.set_xlim(0,15)\n",
        "pl.legend()\n",
        "\n",
        "\n",
        "plt.show()"
      ],
      "execution_count": 0,
      "outputs": [
        {
          "output_type": "display_data",
          "data": {
            "image/png": "[encoded data removed]",
            "text/plain": [
              "<Figure size 1080x360 with 2 Axes>"
            ]
          },
          "metadata": {
            "tags": []
          }
        }
      ]
    },
    {
      "cell_type": "code",
      "metadata": {
        "id": "XZXr6jgy95pn",
        "colab_type": "code",
        "colab": {}
      },
      "source": [
        "narrow_adv_ratio3=[]\n",
        "narrow_base_ratio3=[]\n",
        "for e in eps2:\n",
        "    tmp1 = eval(baseline, test_loader, epsilon=e, adv=True, clean=clean_model, iter=True)\n",
        "    tmp2 = eval(baseline, test_loader, epsilon=e, adv=False, clean=clean_model)\n",
        "    narrow_base_ratio3.append(tmp1/tmp2)\n",
        "    \n",
        "    tmp1 = eval(step1, test_loader, epsilon=e, adv=True, clean=clean_model, iter=True)\n",
        "    tmp2 = eval(step1, test_loader, epsilon=e, adv=False, clean=clean_model)\n",
        "    narrow_adv_ratio3.append(tmp1/tmp2)"
      ],
      "execution_count": 0,
      "outputs": []
    },
    {
      "cell_type": "code",
      "metadata": {
        "id": "7za8DcGX6UmN",
        "colab_type": "code",
        "outputId": "c6128b30-a1bb-4232-987b-66e0b889cf71",
        "colab": {
          "base_uri": "https://localhost:8080/",
          "height": 35
        }
      },
      "source": [
        "# baseline - narrow - iter l.l\n",
        "narrow_base1 = narrowResNet().cuda()\n",
        "train_loss15 = []\n",
        "test_accuracy15 = []\n",
        "for epoch in tqdm(range(NUM_EPOCH)):\n",
        "    train_loss15.append(fit(narrow_base1, train_loader, adv=False))\n",
        "    test_accuracy15.append(eval(narrow_base1, test_loader, epsilon=2, adv=True, clean=narrowClean, iter=True))"
      ],
      "execution_count": 0,
      "outputs": [
        {
          "output_type": "stream",
          "text": [
            "100%|██████████| 50/50 [10:08<00:00, 12.10s/it]\n"
          ],
          "name": "stderr"
        }
      ]
    },
    {
      "cell_type": "code",
      "metadata": {
        "id": "gYP72bsy6pF5",
        "colab_type": "code",
        "outputId": "883e248b-0a7e-4ab8-a3ca-7a038a2f0b2e",
        "colab": {
          "base_uri": "https://localhost:8080/",
          "height": 35
        }
      },
      "source": [
        "# adv.training - narrow - iter l.l\n",
        "narrow_adv1= narrowResNet().cuda()\n",
        "train_loss16 = []\n",
        "test_accuracy16 = []\n",
        "for epoch in tqdm(range(NUM_EPOCH)):\n",
        "    train_loss16.append(fit(narrow_adv1, train_loader, adv=True, clean= narrowClean))\n",
        "    test_accuracy16.append(eval(narrow_adv1, test_loader, epsilon=2, adv=True, clean=narrowClean, iter=True))"
      ],
      "execution_count": 0,
      "outputs": [
        {
          "output_type": "stream",
          "text": [
            "100%|██████████| 50/50 [13:17<00:00, 15.98s/it]\n"
          ],
          "name": "stderr"
        }
      ]
    },
    {
      "cell_type": "code",
      "metadata": {
        "id": "86-epDGs68wz",
        "colab_type": "code",
        "colab": {}
      },
      "source": [
        "narrow_adv_ratio4=[]\n",
        "narrow_base_ratio4=[]\n",
        "for e in eps2:\n",
        "    tmp1 = eval(narrow_base1, test_loader, epsilon=e, adv=True, clean=narrowClean, iter=True)\n",
        "    tmp2 = eval(narrow_base1, test_loader, epsilon=e, adv=False, clean=narrowClean)\n",
        "    narrow_base_ratio4.append(tmp1/tmp2)\n",
        "    \n",
        "    tmp1 = eval(narrow_adv1, test_loader, epsilon=e, adv=True, clean=narrowClean, iter=True)\n",
        "    tmp2 = eval(narrow_adv1, test_loader, epsilon=e, adv=False, clean=narrowClean)\n",
        "    narrow_adv_ratio4.append(tmp1/tmp2)"
      ],
      "execution_count": 0,
      "outputs": []
    },
    {
      "cell_type": "code",
      "metadata": {
        "id": "0CC-n_MX7sQu",
        "colab_type": "code",
        "outputId": "857f92e6-a7e0-454a-b51b-062fff08bb45",
        "colab": {
          "base_uri": "https://localhost:8080/",
          "height": 35
        }
      },
      "source": [
        "# baseline - fat - iter l.l\n",
        "fat_base1 = fatResNet().cuda()\n",
        "train_loss17 = []\n",
        "test_accuracy17 = []\n",
        "for epoch in tqdm(range(NUM_EPOCH)):\n",
        "    train_loss17.append(fit(fat_base1, train_loader, adv=False))\n",
        "    test_accuracy17.append(eval(fat_base1, test_loader, epsilon=2, adv=True, clean=fatClean, iter=True))"
      ],
      "execution_count": 0,
      "outputs": [
        {
          "output_type": "stream",
          "text": [
            "100%|██████████| 50/50 [30:47<00:00, 36.97s/it]\n"
          ],
          "name": "stderr"
        }
      ]
    },
    {
      "cell_type": "code",
      "metadata": {
        "id": "wKmhKTg774ub",
        "colab_type": "code",
        "outputId": "9d3db3ca-9bfc-430b-f2bb-c6f42b7a2286",
        "colab": {
          "base_uri": "https://localhost:8080/",
          "height": 35
        }
      },
      "source": [
        "# adv.training - narrow - iter l.l\n",
        "fat_adv1= fatResNet().cuda()\n",
        "train_loss18 = []\n",
        "test_accuracy18 = []\n",
        "for epoch in tqdm(range(NUM_EPOCH)):\n",
        "    train_loss18.append(fit(fat_adv1, train_loader, adv=True, clean= narrowClean))\n",
        "    test_accuracy18.append(eval(fat_adv1, test_loader, epsilon=2, adv=True, clean=fatClean, iter=True))"
      ],
      "execution_count": 0,
      "outputs": [
        {
          "output_type": "stream",
          "text": [
            "100%|██████████| 50/50 [35:34<00:00, 42.66s/it]\n"
          ],
          "name": "stderr"
        }
      ]
    },
    {
      "cell_type": "code",
      "metadata": {
        "id": "Y-tM9sRZ8PJV",
        "colab_type": "code",
        "colab": {}
      },
      "source": [
        "narrow_adv_ratio5=[]\n",
        "narrow_base_ratio5=[]\n",
        "for e in eps2:\n",
        "    tmp1 = eval(fat_base1, test_loader, epsilon=e, adv=True, clean=fatClean, iter=True)\n",
        "    tmp2 = eval(fat_base1, test_loader, epsilon=e, adv=False, clean=fatClean)\n",
        "    narrow_base_ratio5.append(tmp1/tmp2)\n",
        "    \n",
        "    tmp1 = eval(fat_adv1, test_loader, epsilon=e, adv=True, clean=fatClean, iter=True)\n",
        "    tmp2 = eval(fat_adv1, test_loader, epsilon=e, adv=False, clean=fatClean)\n",
        "    narrow_adv_ratio5.append(tmp1/tmp2)"
      ],
      "execution_count": 0,
      "outputs": []
    },
    {
      "cell_type": "code",
      "metadata": {
        "id": "qDm7qW-X7G2P",
        "colab_type": "code",
        "outputId": "77d7f570-8a4d-4503-b332-52f134e544ca",
        "colab": {
          "base_uri": "https://localhost:8080/",
          "height": 338
        }
      },
      "source": [
        "#compare No adversarial training, “iter. l.l.” adv. examples and  With adversarial training, “iter. l.l.” adv. examples\n",
        "ratio3 = np.column_stack([narrow_base_ratio3 ,narrow_base_ratio4, narrow_base_ratio5])\n",
        "ratio4 = np.column_stack([narrow_adv_ratio3 ,narrow_adv_ratio4, narrow_adv_ratio5])\n",
        "\n",
        "# Plotting the training loss and test accuracy\n",
        "fig = plt.figure(figsize=(15,5))\n",
        "pl =plt.subplot(121)\n",
        "\n",
        "pl.plot(np.array([0.5,1.0,2.0]), ratio3[0,],c='r',marker='o', label = 'epsilon=2')\n",
        "pl.plot(np.array([0.5,1.0,2.0]), ratio3[1,],c='g',marker='x', label = 'epsilon=4')\n",
        "pl.plot(np.array([0.5,1.0,2.0]), ratio3[2,],c='b',marker='v', label = 'epsilon=8')\n",
        "pl.plot(np.array([0.5,1.0,2.0]), ratio3[3,],c='black',marker='^', label = 'epsilon=16')\n",
        "\n",
        "# pl.set_title('train Loss')\n",
        "pl.set_xlabel('scale factor p for number of filters')\n",
        "pl.set_ylabel(\"ratio of adversarial to clean accuracy\")\n",
        "pl.set_ylim(0,1)\n",
        "# pl.set_xlim(0,15)\n",
        "pl.legend()\n",
        "\n",
        "pl =plt.subplot(122)\n",
        "pl.plot(np.array([0.5,1.0,2.0]), ratio4[0,],c='r',marker='o', label = 'epsilon=2')\n",
        "pl.plot(np.array([0.5,1.0,2.0]), ratio4[1,],c='g',marker='x', label = 'epsilon=4')\n",
        "pl.plot(np.array([0.5,1.0,2.0]), ratio4[2,],c='b',marker='v', label = 'epsilon=8')\n",
        "pl.plot(np.array([0.5,1.0,2.0]), ratio4[3,],c='black',marker='^', label = 'epsilon=16')\n",
        "\n",
        "pl.set_xlabel('scale factor p for number of filters')\n",
        "pl.set_ylabel(\"ratio of adversarial to clean accuracy\")\n",
        "pl.set_ylim(0.1,1)\n",
        "\n",
        "# pl.set_title('test accuracy')\n",
        "# pl.set_xlabel('epoch')\n",
        "# pl.set_ylabel(\"accuracy\")\n",
        "# pl.set_ylim(0,100)\n",
        "# pl.set_xlim(0,15)\n",
        "pl.legend()\n",
        "\n",
        "\n",
        "plt.show()"
      ],
      "execution_count": 0,
      "outputs": [
        {
          "output_type": "display_data",
          "data": {
            "image/png": "[encoded data removed]",
            "text/plain": [
              "<Figure size 1080x360 with 2 Axes>"
            ]
          },
          "metadata": {
            "tags": []
          }
        }
      ]
    },
    {
      "cell_type": "code",
      "metadata": {
        "id": "uzak931RfKHK",
        "colab_type": "code",
        "colab": {}
      },
      "source": [
        "narrow_adv_ratio6=[]\n",
        "narrow_base_ratio6=[]\n",
        "for e in eps2:\n",
        "    tmp1 = eval(baseline, test_loader, epsilon=e, adv=True, clean=clean_model, iter=True, ll=False)\n",
        "    tmp2 = eval(baseline, test_loader, epsilon=e, adv=False, clean=clean_model)\n",
        "    narrow_base_ratio6.append(tmp1/tmp2)\n",
        "    \n",
        "    tmp1 = eval(step1, test_loader, epsilon=e, adv=True, clean=clean_model, iter=True, ll=False)\n",
        "    tmp2 = eval(step1, test_loader, epsilon=e, adv=False, clean=clean_model)\n",
        "    narrow_adv_ratio6.append(tmp1/tmp2)"
      ],
      "execution_count": 0,
      "outputs": []
    },
    {
      "cell_type": "code",
      "metadata": {
        "id": "Vcj9R7Yq8ncW",
        "colab_type": "code",
        "outputId": "2f9d9e5b-cbed-4d34-f367-08f72bb7baea",
        "colab": {
          "base_uri": "https://localhost:8080/",
          "height": 35
        }
      },
      "source": [
        "# baseline - narrow - basic iter\n",
        "narrow_base2 = narrowResNet().cuda()\n",
        "train_loss19 = []\n",
        "test_accuracy19 = []\n",
        "for epoch in tqdm(range(NUM_EPOCH)):\n",
        "    train_loss19.append(fit(narrow_base2, train_loader, adv=False))\n",
        "    test_accuracy19.append(eval(narrow_base2, test_loader, epsilon=2, adv=True, clean=narrowClean, iter=True, ll=False))"
      ],
      "execution_count": 0,
      "outputs": [
        {
          "output_type": "stream",
          "text": [
            "100%|██████████| 50/50 [09:44<00:00, 11.74s/it]\n"
          ],
          "name": "stderr"
        }
      ]
    },
    {
      "cell_type": "code",
      "metadata": {
        "id": "EwPQoOah-EYH",
        "colab_type": "code",
        "outputId": "d7eff907-bf5d-46fc-e812-31ec0d907a2a",
        "colab": {
          "base_uri": "https://localhost:8080/",
          "height": 35
        }
      },
      "source": [
        "# adv.training - narrow - basic iter\n",
        "narrow_adv2= narrowResNet().cuda()\n",
        "train_loss20 = []\n",
        "test_accuracy20 = []\n",
        "for epoch in tqdm(range(NUM_EPOCH)):\n",
        "    train_loss20.append(fit(narrow_adv2, train_loader, adv=True, clean= narrowClean))\n",
        "    test_accuracy20.append(eval(narrow_adv2, test_loader, epsilon=2, adv=True, clean=narrowClean, iter=True, ll=False))"
      ],
      "execution_count": 0,
      "outputs": [
        {
          "output_type": "stream",
          "text": [
            "100%|██████████| 50/50 [13:04<00:00, 15.65s/it]\n"
          ],
          "name": "stderr"
        }
      ]
    },
    {
      "cell_type": "code",
      "metadata": {
        "id": "sYW3lMLq-Pnx",
        "colab_type": "code",
        "colab": {}
      },
      "source": [
        "narrow_adv_ratio7=[]\n",
        "narrow_base_ratio7=[]\n",
        "for e in eps2:\n",
        "    tmp1 = eval(narrow_base2, test_loader, epsilon=e, adv=True, clean=narrowClean, iter=True, ll=False)\n",
        "    tmp2 = eval(narrow_base2, test_loader, epsilon=e, adv=False, clean=narrowClean)\n",
        "    narrow_base_ratio7.append(tmp1/tmp2)\n",
        "    \n",
        "    tmp1 = eval(narrow_adv2, test_loader, epsilon=e, adv=True, clean=narrowClean, iter=True, ll=False)\n",
        "    tmp2 = eval(narrow_adv2, test_loader, epsilon=e, adv=False, clean=narrowClean)\n",
        "    narrow_adv_ratio7.append(tmp1/tmp2)"
      ],
      "execution_count": 0,
      "outputs": []
    },
    {
      "cell_type": "code",
      "metadata": {
        "id": "WKgh90RB-bg9",
        "colab_type": "code",
        "outputId": "4df62642-b75d-4ffa-e1a7-cf04581142eb",
        "colab": {
          "base_uri": "https://localhost:8080/",
          "height": 35
        }
      },
      "source": [
        "# baseline - fat - basic iter\n",
        "fat_base2 = fatResNet().cuda()\n",
        "train_loss21 = []\n",
        "test_accuracy21 = []\n",
        "for epoch in tqdm(range(NUM_EPOCH)):\n",
        "    train_loss21.append(fit(fat_base2, train_loader, adv=False))\n",
        "    test_accuracy21.append(eval(fat_base2, test_loader, epsilon=torch.tensor([2/256]), adv=True, clean=fatClean, iter=True,  ll=False))"
      ],
      "execution_count": 0,
      "outputs": [
        {
          "output_type": "stream",
          "text": [
            "100%|██████████| 50/50 [22:56<00:00, 27.48s/it]\n"
          ],
          "name": "stderr"
        }
      ]
    },
    {
      "cell_type": "code",
      "metadata": {
        "id": "PtVy6xD6-lH8",
        "colab_type": "code",
        "outputId": "9f421687-8a88-4fc4-907b-7351a55cb7af",
        "colab": {
          "base_uri": "https://localhost:8080/",
          "height": 35
        }
      },
      "source": [
        "# adv.training - narrow - iter l.l\n",
        "fat_adv2= fatResNet().cuda()\n",
        "train_loss22 = []\n",
        "test_accuracy22 = []\n",
        "for epoch in tqdm(range(NUM_EPOCH)):\n",
        "    train_loss22.append(fit(fat_adv2, train_loader, adv=True, clean= narrowClean))\n",
        "    test_accuracy22.append(eval(fat_adv2, test_loader, epsilon=torch.tensor([2/256]), adv=True, clean=fatClean, iter=True,  ll=False))"
      ],
      "execution_count": 0,
      "outputs": [
        {
          "output_type": "stream",
          "text": [
            "100%|██████████| 50/50 [27:28<00:00, 32.96s/it]\n"
          ],
          "name": "stderr"
        }
      ]
    },
    {
      "cell_type": "code",
      "metadata": {
        "id": "pwNzuhT7-9XF",
        "colab_type": "code",
        "colab": {}
      },
      "source": [
        "narrow_adv_ratio8=[]\n",
        "narrow_base_ratio8=[]\n",
        "for e in eps2:\n",
        "    tmp1 = eval(fat_base2, test_loader, epsilon=e, adv=True, clean=fatClean, iter=True,  ll=False)\n",
        "    tmp2 = eval(fat_base2, test_loader, epsilon=e, adv=False, clean=fatClean)\n",
        "    narrow_base_ratio8.append(tmp1/tmp2)\n",
        "    \n",
        "    tmp1 = eval(fat_adv2, test_loader, epsilon=e, adv=True, clean=fatClean, iter=True,  ll=False)\n",
        "    tmp2 = eval(fat_adv2, test_loader, epsilon=e, adv=False, clean=fatClean)\n",
        "    narrow_adv_ratio8.append(tmp1/tmp2)"
      ],
      "execution_count": 0,
      "outputs": []
    },
    {
      "cell_type": "code",
      "metadata": {
        "id": "1HcoiWP2_Cnz",
        "colab_type": "code",
        "outputId": "aa772f42-8b63-4a8f-865a-a73b8624c066",
        "colab": {
          "base_uri": "https://localhost:8080/",
          "height": 337
        }
      },
      "source": [
        "#compare No adversarial training, “basic iter.” adv. examples and  With adversarial training, “basic iter.” adv. examples\n",
        "ratio5 = np.column_stack([narrow_base_ratio6 ,narrow_base_ratio7, narrow_base_ratio8])\n",
        "ratio6 = np.column_stack([narrow_adv_ratio6 ,narrow_adv_ratio7, narrow_adv_ratio8])\n",
        "\n",
        "# Plotting the training loss and test accuracy\n",
        "fig = plt.figure(figsize=(15,5))\n",
        "pl =plt.subplot(121)\n",
        "\n",
        "pl.plot(np.array([0.5,1.0,2.0]), ratio5[0,],c='r',marker='o', label = 'epsilon=2')\n",
        "pl.plot(np.array([0.5,1.0,2.0]), ratio5[1,],c='g',marker='x', label = 'epsilon=4')\n",
        "pl.plot(np.array([0.5,1.0,2.0]), ratio5[2,],c='b',marker='v', label = 'epsilon=8')\n",
        "pl.plot(np.array([0.5,1.0,2.0]), ratio5[3,],c='black',marker='^', label = 'epsilon=16')\n",
        "\n",
        "# pl.set_title('train Loss')\n",
        "pl.set_xlabel('scale factor p for number of filters')\n",
        "pl.set_ylabel(\"ratio of adversarial to clean accuracy\")\n",
        "pl.set_ylim(0,1.1)\n",
        "# pl.set_xlim(0,15)\n",
        "pl.legend()\n",
        "\n",
        "pl =plt.subplot(122)\n",
        "pl.plot(np.array([0.5,1.0,2.0]), ratio6[0,],c='r',marker='o', label = 'epsilon=2')\n",
        "pl.plot(np.array([0.5,1.0,2.0]), ratio6[1,],c='g',marker='x', label = 'epsilon=4')\n",
        "pl.plot(np.array([0.5,1.0,2.0]), ratio6[2,],c='b',marker='v', label = 'epsilon=8')\n",
        "pl.plot(np.array([0.5,1.0,2.0]), ratio6[3,],c='black',marker='^', label = 'epsilon=16')\n",
        "\n",
        "pl.set_xlabel('scale factor p for number of filters')\n",
        "pl.set_ylabel(\"ratio of adversarial to clean accuracy\")\n",
        "pl.set_ylim(0.2,1.1)\n",
        "\n",
        "# pl.set_title('test accuracy')\n",
        "# pl.set_xlabel('epoch')\n",
        "# pl.set_ylabel(\"accuracy\")\n",
        "# pl.set_ylim(0,100)\n",
        "# pl.set_xlim(0,15)\n",
        "pl.legend()\n",
        "\n",
        "\n",
        "plt.show()"
      ],
      "execution_count": 0,
      "outputs": [
        {
          "output_type": "display_data",
          "data": {
            "image/png": "[encoded data removed]",
            "text/plain": [
              "<Figure size 1080x360 with 2 Axes>"
            ]
          },
          "metadata": {
            "tags": []
          }
        }
      ]
    },
    {
      "cell_type": "code",
      "metadata": {
        "id": "tEJRlzzFovE4",
        "colab_type": "code",
        "colab": {}
      },
      "source": [
        "eps=[torch.tensor([0/256]),torch.tensor([2/256]), torch.tensor([4/256]), torch.tensor([8/256]), torch.tensor([16/256])]\n",
        "adv_accuracy=[]\n",
        "FSGM_accuracy=[]\n",
        "for e in eps:\n",
        "    adv_accuracy.append(eval(step1, test_loader, epsilon=e, adv=True, clean=clean_model))\n",
        "    FSGM_accuracy.append(eval(FGSM_model, test_loader, epsilon=e, adv=True, clean=clean_model, ll=False))"
      ],
      "execution_count": 0,
      "outputs": []
    },
    {
      "cell_type": "code",
      "metadata": {
        "id": "rmTn_hhgmp1v",
        "colab_type": "code",
        "outputId": "e396e6a9-29c0-4f1a-fac7-cf520ec4dd55",
        "colab": {
          "base_uri": "https://localhost:8080/",
          "height": 109
        }
      },
      "source": [
        "#this result corresponds to table3 of the paper\n",
        "index=['clean','2', '4', '8', '16']\n",
        "result5={\"FSGM\": FSGM_accuracy,'step1.1': adv_accuracy\n",
        "}\n",
        "result5=DataFrame(result5, index=index)\n",
        "result5.T"
      ],
      "execution_count": 0,
      "outputs": [
        {
          "output_type": "execute_result",
          "data": {
            "text/html": [
              "<div>\n",
              "<style scoped>\n",
              "    .dataframe tbody tr th:only-of-type {\n",
              "        vertical-align: middle;\n",
              "    }\n",
              "\n",
              "    .dataframe tbody tr th {\n",
              "        vertical-align: top;\n",
              "    }\n",
              "\n",
              "    .dataframe thead th {\n",
              "        text-align: right;\n",
              "    }\n",
              "</style>\n",
              "<table border=\"1\" class=\"dataframe\">\n",
              "  <thead>\n",
              "    <tr style=\"text-align: right;\">\n",
              "      <th></th>\n",
              "      <th>clean</th>\n",
              "      <th>2</th>\n",
              "      <th>4</th>\n",
              "      <th>8</th>\n",
              "      <th>16</th>\n",
              "    </tr>\n",
              "  </thead>\n",
              "  <tbody>\n",
              "    <tr>\n",
              "      <th>FSGM</th>\n",
              "      <td>79.17</td>\n",
              "      <td>83.78</td>\n",
              "      <td>86.67</td>\n",
              "      <td>88.81</td>\n",
              "      <td>87.37</td>\n",
              "    </tr>\n",
              "    <tr>\n",
              "      <th>step1.1</th>\n",
              "      <td>75.54</td>\n",
              "      <td>74.78</td>\n",
              "      <td>74.38</td>\n",
              "      <td>72.67</td>\n",
              "      <td>68.44</td>\n",
              "    </tr>\n",
              "  </tbody>\n",
              "</table>\n",
              "</div>"
            ],
            "text/plain": [
              "         clean      2      4      8     16\n",
              "FSGM     79.17  83.78  86.67  88.81  87.37\n",
              "step1.1  75.54  74.78  74.38  72.67  68.44"
            ]
          },
          "metadata": {
            "tags": []
          },
          "execution_count": 17
        }
      ]
    }
  ]
}